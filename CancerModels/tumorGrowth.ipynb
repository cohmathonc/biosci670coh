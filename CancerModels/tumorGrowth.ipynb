{
  "nbformat": 4,
  "nbformat_minor": 0,
  "metadata": {
    "colab": {
      "name": "tumorGrowth.ipynb",
      "provenance": []
    },
    "kernelspec": {
      "name": "python3",
      "display_name": "Python 3"
    },
    "language_info": {
      "name": "python"
    }
  },
  "cells": [
    {
      "cell_type": "code",
      "metadata": {
        "id": "xN2xuCmwly9R"
      },
      "source": [
        "import numpy as np\n",
        "import matplotlib.pylab as plt\n",
        "import time\n",
        "from IPython import display"
      ],
      "execution_count": null,
      "outputs": []
    },
    {
      "cell_type": "code",
      "metadata": {
        "id": "Dg5B17zCWEHS"
      },
      "source": [
        "cells=np.array([[0.0,0.0]])\n",
        "Ncells=cells.shape[0]\n",
        "age=np.zeros(Ncells)\n",
        "rad=0.25\n",
        "dt=0.5\n",
        "Tf=10\n",
        "T=np.arange(0,Tf+dt,dt)\n",
        "divisionTime=2\n"
      ],
      "execution_count": null,
      "outputs": []
    },
    {
      "cell_type": "code",
      "metadata": {
        "colab": {
          "base_uri": "https://localhost:8080/",
          "height": 308
        },
        "id": "hlAi4bNjkDtK",
        "outputId": "ed1f40cb-14f9-4fbf-88bb-39a97f10efb7"
      },
      "source": [
        "spaceSize=1\n",
        "fig,axs=plt.subplots(nrows=1,ncols=2)\n",
        "fig.suptitle(\"T=%d\"%(0))\n",
        "axs[0].plot(cells[-1,0],cells[-1,1],'r.')\n",
        "axs[0].set_xlim(-spaceSize,spaceSize)\n",
        "axs[0].set_ylim(-spaceSize,spaceSize)\n",
        "axs[0].set_aspect('equal')\n",
        "\n",
        "axs[1].plot(0,Ncells,'bo')\n",
        "axs[0].set_xlabel('x')\n",
        "axs[0].set_ylabel('y')\n",
        "\n",
        "axs[1].set_xlabel('time,')\n",
        "axs[1].yaxis.set_label_position(\"right\")\n",
        "axs[1].set_ylabel('number of cells')\n",
        "axs[1].yaxis.tick_right()\n",
        "previousN=Ncells\n",
        "for ti in range(1,T.size):\n",
        "  for i in range(Ncells):\n",
        "    age[i]+=dt\n",
        "    ang=2*np.pi*np.random.rand()\n",
        "    #cells[i]+=[rad*np.cos(ang),rad*np.sin(ang)]\n",
        "    if age[i]>=divisionTime:\n",
        "#    if age[i]>=divisionTime+np.random.normal(0,1):\n",
        "     \n",
        "      ang=2*np.pi*np.random.rand()\n",
        "      newCell=cells[-1]+[rad*np.cos(ang),rad*np.sin(ang)]\n",
        "      if np.all(np.abs(newCell)<spaceSize):\n",
        "        Ncells=Ncells+1\n",
        "        cells=np.vstack((cells,newCell))\n",
        "        axs[0].plot(cells[-1,0],cells[-1,1],'r.')\n",
        "        display.display(plt.gcf())\n",
        "        display.clear_output(wait=True)\n",
        "        time.sleep(0.1/ti**2)\n",
        "        age[i]=0\n",
        "        age=np.concatenate((age,[0]))\n",
        "  fig.suptitle(\"T=%d\"%(T[ti]))\n",
        "  axs[1].plot([T[ti-1],T[ti]],[previousN,Ncells],'b')\n",
        "  display.display(plt.gcf())\n",
        "  display.clear_output(wait=True)\n",
        "  previousN=Ncells\n",
        "    "
      ],
      "execution_count": null,
      "outputs": [
        {
          "output_type": "display_data",
          "data": {
            "image/png": "[encoded data removed]",
            "text/plain": [
              "<Figure size 432x288 with 2 Axes>"
            ]
          },
          "metadata": {
            "tags": [],
            "needs_background": "light"
          }
        }
      ]
    }
  ]
}