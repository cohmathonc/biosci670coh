{
  "nbformat": 4,
  "nbformat_minor": 0,
  "metadata": {
    "colab": {
      "name": "predator_prey.ipynb",
      "provenance": [],
      "collapsed_sections": []
    },
    "kernelspec": {
      "name": "python3",
      "display_name": "Python 3"
    },
    "widgets": {
      "application/vnd.jupyter.widget-state+json": {
        "d11d5ee384784f2db8f9e33b70e6d356": {
          "model_module": "@jupyter-widgets/controls",
          "model_name": "VBoxModel",
          "state": {
            "_view_name": "VBoxView",
            "_dom_classes": [
              "widget-interact"
            ],
            "_model_name": "VBoxModel",
            "_view_module": "@jupyter-widgets/controls",
            "_model_module_version": "1.5.0",
            "_view_count": null,
            "_view_module_version": "1.5.0",
            "box_style": "",
            "layout": "IPY_MODEL_98fca7ae86a445dfba906db34a2be2cd",
            "_model_module": "@jupyter-widgets/controls",
            "children": [
              "IPY_MODEL_00b2f9c6576947489ed9bb8faf8da697",
              "IPY_MODEL_052f7b48d97e4357a7892b8dafc57fbe",
              "IPY_MODEL_cd9a880d252c4522ada7d72f050f3a0d",
              "IPY_MODEL_e298fe65f7dc43f8bee68a08488cedea",
              "IPY_MODEL_e6305d738db94a5c981dcfb41838ef35",
              "IPY_MODEL_793f9a2b8ebf4af0981cac7da23bda05",
              "IPY_MODEL_02500687aeea4f3a99ddd8a9aa2ce403",
              "IPY_MODEL_e640b62673b04e259edac2c22851e63f"
            ]
          }
        },
        "98fca7ae86a445dfba906db34a2be2cd": {
          "model_module": "@jupyter-widgets/base",
          "model_name": "LayoutModel",
          "state": {
            "_view_name": "LayoutView",
            "grid_template_rows": null,
            "right": null,
            "justify_content": null,
            "_view_module": "@jupyter-widgets/base",
            "overflow": null,
            "_model_module_version": "1.2.0",
            "_view_count": null,
            "flex_flow": null,
            "width": null,
            "min_width": null,
            "border": null,
            "align_items": null,
            "bottom": null,
            "_model_module": "@jupyter-widgets/base",
            "top": null,
            "grid_column": null,
            "overflow_y": null,
            "overflow_x": null,
            "grid_auto_flow": null,
            "grid_area": null,
            "grid_template_columns": null,
            "flex": null,
            "_model_name": "LayoutModel",
            "justify_items": null,
            "grid_row": null,
            "max_height": null,
            "align_content": null,
            "visibility": null,
            "align_self": null,
            "height": null,
            "min_height": null,
            "padding": null,
            "grid_auto_rows": null,
            "grid_gap": null,
            "max_width": null,
            "order": null,
            "_view_module_version": "1.2.0",
            "grid_template_areas": null,
            "object_position": null,
            "object_fit": null,
            "grid_auto_columns": null,
            "margin": null,
            "display": null,
            "left": null
          }
        },
        "00b2f9c6576947489ed9bb8faf8da697": {
          "model_module": "@jupyter-widgets/controls",
          "model_name": "FloatSliderModel",
          "state": {
            "_view_name": "FloatSliderView",
            "style": "IPY_MODEL_6545386d6caf4c418c73f4ac8cad6f5b",
            "_dom_classes": [],
            "description": "N0X",
            "step": 1,
            "_model_name": "FloatSliderModel",
            "orientation": "horizontal",
            "max": 10,
            "_view_module": "@jupyter-widgets/controls",
            "_model_module_version": "1.5.0",
            "value": 1,
            "_view_count": null,
            "disabled": false,
            "_view_module_version": "1.5.0",
            "min": 0,
            "continuous_update": true,
            "readout_format": ".2f",
            "description_tooltip": null,
            "readout": true,
            "_model_module": "@jupyter-widgets/controls",
            "layout": "IPY_MODEL_cbbbbbdbfded4c8d8654a2f06e15b15f"
          }
        },
        "052f7b48d97e4357a7892b8dafc57fbe": {
          "model_module": "@jupyter-widgets/controls",
          "model_name": "FloatSliderModel",
          "state": {
            "_view_name": "FloatSliderView",
            "style": "IPY_MODEL_025cec1924494fd98cc8da796d9e65a6",
            "_dom_classes": [],
            "description": "N0Y",
            "step": 1,
            "_model_name": "FloatSliderModel",
            "orientation": "horizontal",
            "max": 10,
            "_view_module": "@jupyter-widgets/controls",
            "_model_module_version": "1.5.0",
            "value": 1,
            "_view_count": null,
            "disabled": false,
            "_view_module_version": "1.5.0",
            "min": 0,
            "continuous_update": true,
            "readout_format": ".2f",
            "description_tooltip": null,
            "readout": true,
            "_model_module": "@jupyter-widgets/controls",
            "layout": "IPY_MODEL_e6d3516f079145ecb46c1fd5d4dd4587"
          }
        },
        "cd9a880d252c4522ada7d72f050f3a0d": {
          "model_module": "@jupyter-widgets/controls",
          "model_name": "FloatTextModel",
          "state": {
            "_view_name": "FloatTextView",
            "style": "IPY_MODEL_55b815087111473e942a8b42106b5b5d",
            "_dom_classes": [],
            "description": "T",
            "_model_name": "FloatTextModel",
            "_view_module": "@jupyter-widgets/controls",
            "_model_module_version": "1.5.0",
            "value": 7.72,
            "_view_count": null,
            "disabled": false,
            "_view_module_version": "1.5.0",
            "continuous_update": false,
            "step": 1,
            "description_tooltip": null,
            "_model_module": "@jupyter-widgets/controls",
            "layout": "IPY_MODEL_80c00f3eae1240298a365928f6ee6199"
          }
        },
        "e298fe65f7dc43f8bee68a08488cedea": {
          "model_module": "@jupyter-widgets/controls",
          "model_name": "FloatSliderModel",
          "state": {
            "_view_name": "FloatSliderView",
            "style": "IPY_MODEL_16a7c477acac4e6699a4e7364e4c62af",
            "_dom_classes": [],
            "description": "<MATH>&alpha;</MATH>",
            "step": 0.1,
            "_model_name": "FloatSliderModel",
            "orientation": "horizontal",
            "max": 10,
            "_view_module": "@jupyter-widgets/controls",
            "_model_module_version": "1.5.0",
            "value": 4.2,
            "_view_count": null,
            "disabled": false,
            "_view_module_version": "1.5.0",
            "min": 0.1,
            "continuous_update": true,
            "readout_format": ".3f",
            "description_tooltip": null,
            "readout": true,
            "_model_module": "@jupyter-widgets/controls",
            "layout": "IPY_MODEL_c167c294edff4245ba49edfef0c3decd"
          }
        },
        "e6305d738db94a5c981dcfb41838ef35": {
          "model_module": "@jupyter-widgets/controls",
          "model_name": "FloatSliderModel",
          "state": {
            "_view_name": "FloatSliderView",
            "style": "IPY_MODEL_13feaa3b4e8f49d58f55f561d9a228d4",
            "_dom_classes": [],
            "description": "<MATH>&beta;</MATH>",
            "step": 0.1,
            "_model_name": "FloatSliderModel",
            "orientation": "horizontal",
            "max": 10,
            "_view_module": "@jupyter-widgets/controls",
            "_model_module_version": "1.5.0",
            "value": 4.01,
            "_view_count": null,
            "disabled": false,
            "_view_module_version": "1.5.0",
            "min": 0.01,
            "continuous_update": true,
            "readout_format": ".3f",
            "description_tooltip": null,
            "readout": true,
            "_model_module": "@jupyter-widgets/controls",
            "layout": "IPY_MODEL_b7e534c25efb4180bbe574d4c0c33e59"
          }
        },
        "793f9a2b8ebf4af0981cac7da23bda05": {
          "model_module": "@jupyter-widgets/controls",
          "model_name": "FloatSliderModel",
          "state": {
            "_view_name": "FloatSliderView",
            "style": "IPY_MODEL_8e927e46d98540909fd022774ef0b98d",
            "_dom_classes": [],
            "description": "<MATH>&delta;</MATH>",
            "step": 0.01,
            "_model_name": "FloatSliderModel",
            "orientation": "horizontal",
            "max": 0.1,
            "_view_module": "@jupyter-widgets/controls",
            "_model_module_version": "1.5.0",
            "value": 0.04,
            "_view_count": null,
            "disabled": false,
            "_view_module_version": "1.5.0",
            "min": 0.01,
            "continuous_update": true,
            "readout_format": ".3f",
            "description_tooltip": null,
            "readout": true,
            "_model_module": "@jupyter-widgets/controls",
            "layout": "IPY_MODEL_41e45de1973249779626132031d46fb5"
          }
        },
        "02500687aeea4f3a99ddd8a9aa2ce403": {
          "model_module": "@jupyter-widgets/controls",
          "model_name": "FloatSliderModel",
          "state": {
            "_view_name": "FloatSliderView",
            "style": "IPY_MODEL_236bb49d38904c1c9caff75e7ee7b095",
            "_dom_classes": [],
            "description": "<MATH>&gamma;</MATH>",
            "step": 0.01,
            "_model_name": "FloatSliderModel",
            "orientation": "horizontal",
            "max": 0.3,
            "_view_module": "@jupyter-widgets/controls",
            "_model_module_version": "1.5.0",
            "value": 0.17,
            "_view_count": null,
            "disabled": false,
            "_view_module_version": "1.5.0",
            "min": 0,
            "continuous_update": true,
            "readout_format": ".2f",
            "description_tooltip": null,
            "readout": true,
            "_model_module": "@jupyter-widgets/controls",
            "layout": "IPY_MODEL_d16faf481ac14772a01f600f5cc0b0fc"
          }
        },
        "e640b62673b04e259edac2c22851e63f": {
          "model_module": "@jupyter-widgets/output",
          "model_name": "OutputModel",
          "state": {
            "_view_name": "OutputView",
            "msg_id": "",
            "_dom_classes": [],
            "_model_name": "OutputModel",
            "outputs": [
              {
                "output_type": "display_data",
                "metadata": {
                  "tags": [],
                  "needs_background": "light"
                },
                "image/png": "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\n",
                "text/plain": "<Figure size 1800x720 with 2 Axes>"
              }
            ],
            "_view_module": "@jupyter-widgets/output",
            "_model_module_version": "1.0.0",
            "_view_count": null,
            "_view_module_version": "1.0.0",
            "layout": "IPY_MODEL_4e8093ea7d2b4f1da0fd6446ea44f440",
            "_model_module": "@jupyter-widgets/output"
          }
        },
        "6545386d6caf4c418c73f4ac8cad6f5b": {
          "model_module": "@jupyter-widgets/controls",
          "model_name": "SliderStyleModel",
          "state": {
            "_view_name": "StyleView",
            "handle_color": null,
            "_model_name": "SliderStyleModel",
            "description_width": "",
            "_view_module": "@jupyter-widgets/base",
            "_model_module_version": "1.5.0",
            "_view_count": null,
            "_view_module_version": "1.2.0",
            "_model_module": "@jupyter-widgets/controls"
          }
        },
        "cbbbbbdbfded4c8d8654a2f06e15b15f": {
          "model_module": "@jupyter-widgets/base",
          "model_name": "LayoutModel",
          "state": {
            "_view_name": "LayoutView",
            "grid_template_rows": null,
            "right": null,
            "justify_content": null,
            "_view_module": "@jupyter-widgets/base",
            "overflow": null,
            "_model_module_version": "1.2.0",
            "_view_count": null,
            "flex_flow": null,
            "width": null,
            "min_width": null,
            "border": null,
            "align_items": null,
            "bottom": null,
            "_model_module": "@jupyter-widgets/base",
            "top": null,
            "grid_column": null,
            "overflow_y": null,
            "overflow_x": null,
            "grid_auto_flow": null,
            "grid_area": null,
            "grid_template_columns": null,
            "flex": null,
            "_model_name": "LayoutModel",
            "justify_items": null,
            "grid_row": null,
            "max_height": null,
            "align_content": null,
            "visibility": null,
            "align_self": null,
            "height": null,
            "min_height": null,
            "padding": null,
            "grid_auto_rows": null,
            "grid_gap": null,
            "max_width": null,
            "order": null,
            "_view_module_version": "1.2.0",
            "grid_template_areas": null,
            "object_position": null,
            "object_fit": null,
            "grid_auto_columns": null,
            "margin": null,
            "display": null,
            "left": null
          }
        },
        "025cec1924494fd98cc8da796d9e65a6": {
          "model_module": "@jupyter-widgets/controls",
          "model_name": "SliderStyleModel",
          "state": {
            "_view_name": "StyleView",
            "handle_color": null,
            "_model_name": "SliderStyleModel",
            "description_width": "",
            "_view_module": "@jupyter-widgets/base",
            "_model_module_version": "1.5.0",
            "_view_count": null,
            "_view_module_version": "1.2.0",
            "_model_module": "@jupyter-widgets/controls"
          }
        },
        "e6d3516f079145ecb46c1fd5d4dd4587": {
          "model_module": "@jupyter-widgets/base",
          "model_name": "LayoutModel",
          "state": {
            "_view_name": "LayoutView",
            "grid_template_rows": null,
            "right": null,
            "justify_content": null,
            "_view_module": "@jupyter-widgets/base",
            "overflow": null,
            "_model_module_version": "1.2.0",
            "_view_count": null,
            "flex_flow": null,
            "width": null,
            "min_width": null,
            "border": null,
            "align_items": null,
            "bottom": null,
            "_model_module": "@jupyter-widgets/base",
            "top": null,
            "grid_column": null,
            "overflow_y": null,
            "overflow_x": null,
            "grid_auto_flow": null,
            "grid_area": null,
            "grid_template_columns": null,
            "flex": null,
            "_model_name": "LayoutModel",
            "justify_items": null,
            "grid_row": null,
            "max_height": null,
            "align_content": null,
            "visibility": null,
            "align_self": null,
            "height": null,
            "min_height": null,
            "padding": null,
            "grid_auto_rows": null,
            "grid_gap": null,
            "max_width": null,
            "order": null,
            "_view_module_version": "1.2.0",
            "grid_template_areas": null,
            "object_position": null,
            "object_fit": null,
            "grid_auto_columns": null,
            "margin": null,
            "display": null,
            "left": null
          }
        },
        "55b815087111473e942a8b42106b5b5d": {
          "model_module": "@jupyter-widgets/controls",
          "model_name": "DescriptionStyleModel",
          "state": {
            "_view_name": "StyleView",
            "_model_name": "DescriptionStyleModel",
            "description_width": "",
            "_view_module": "@jupyter-widgets/base",
            "_model_module_version": "1.5.0",
            "_view_count": null,
            "_view_module_version": "1.2.0",
            "_model_module": "@jupyter-widgets/controls"
          }
        },
        "80c00f3eae1240298a365928f6ee6199": {
          "model_module": "@jupyter-widgets/base",
          "model_name": "LayoutModel",
          "state": {
            "_view_name": "LayoutView",
            "grid_template_rows": null,
            "right": null,
            "justify_content": null,
            "_view_module": "@jupyter-widgets/base",
            "overflow": null,
            "_model_module_version": "1.2.0",
            "_view_count": null,
            "flex_flow": null,
            "width": null,
            "min_width": null,
            "border": null,
            "align_items": null,
            "bottom": null,
            "_model_module": "@jupyter-widgets/base",
            "top": null,
            "grid_column": null,
            "overflow_y": null,
            "overflow_x": null,
            "grid_auto_flow": null,
            "grid_area": null,
            "grid_template_columns": null,
            "flex": null,
            "_model_name": "LayoutModel",
            "justify_items": null,
            "grid_row": null,
            "max_height": null,
            "align_content": null,
            "visibility": null,
            "align_self": null,
            "height": null,
            "min_height": null,
            "padding": null,
            "grid_auto_rows": null,
            "grid_gap": null,
            "max_width": null,
            "order": null,
            "_view_module_version": "1.2.0",
            "grid_template_areas": null,
            "object_position": null,
            "object_fit": null,
            "grid_auto_columns": null,
            "margin": null,
            "display": null,
            "left": null
          }
        },
        "16a7c477acac4e6699a4e7364e4c62af": {
          "model_module": "@jupyter-widgets/controls",
          "model_name": "SliderStyleModel",
          "state": {
            "_view_name": "StyleView",
            "handle_color": null,
            "_model_name": "SliderStyleModel",
            "description_width": "",
            "_view_module": "@jupyter-widgets/base",
            "_model_module_version": "1.5.0",
            "_view_count": null,
            "_view_module_version": "1.2.0",
            "_model_module": "@jupyter-widgets/controls"
          }
        },
        "c167c294edff4245ba49edfef0c3decd": {
          "model_module": "@jupyter-widgets/base",
          "model_name": "LayoutModel",
          "state": {
            "_view_name": "LayoutView",
            "grid_template_rows": null,
            "right": null,
            "justify_content": null,
            "_view_module": "@jupyter-widgets/base",
            "overflow": null,
            "_model_module_version": "1.2.0",
            "_view_count": null,
            "flex_flow": null,
            "width": null,
            "min_width": null,
            "border": null,
            "align_items": null,
            "bottom": null,
            "_model_module": "@jupyter-widgets/base",
            "top": null,
            "grid_column": null,
            "overflow_y": null,
            "overflow_x": null,
            "grid_auto_flow": null,
            "grid_area": null,
            "grid_template_columns": null,
            "flex": null,
            "_model_name": "LayoutModel",
            "justify_items": null,
            "grid_row": null,
            "max_height": null,
            "align_content": null,
            "visibility": null,
            "align_self": null,
            "height": null,
            "min_height": null,
            "padding": null,
            "grid_auto_rows": null,
            "grid_gap": null,
            "max_width": null,
            "order": null,
            "_view_module_version": "1.2.0",
            "grid_template_areas": null,
            "object_position": null,
            "object_fit": null,
            "grid_auto_columns": null,
            "margin": null,
            "display": null,
            "left": null
          }
        },
        "13feaa3b4e8f49d58f55f561d9a228d4": {
          "model_module": "@jupyter-widgets/controls",
          "model_name": "SliderStyleModel",
          "state": {
            "_view_name": "StyleView",
            "handle_color": null,
            "_model_name": "SliderStyleModel",
            "description_width": "",
            "_view_module": "@jupyter-widgets/base",
            "_model_module_version": "1.5.0",
            "_view_count": null,
            "_view_module_version": "1.2.0",
            "_model_module": "@jupyter-widgets/controls"
          }
        },
        "b7e534c25efb4180bbe574d4c0c33e59": {
          "model_module": "@jupyter-widgets/base",
          "model_name": "LayoutModel",
          "state": {
            "_view_name": "LayoutView",
            "grid_template_rows": null,
            "right": null,
            "justify_content": null,
            "_view_module": "@jupyter-widgets/base",
            "overflow": null,
            "_model_module_version": "1.2.0",
            "_view_count": null,
            "flex_flow": null,
            "width": null,
            "min_width": null,
            "border": null,
            "align_items": null,
            "bottom": null,
            "_model_module": "@jupyter-widgets/base",
            "top": null,
            "grid_column": null,
            "overflow_y": null,
            "overflow_x": null,
            "grid_auto_flow": null,
            "grid_area": null,
            "grid_template_columns": null,
            "flex": null,
            "_model_name": "LayoutModel",
            "justify_items": null,
            "grid_row": null,
            "max_height": null,
            "align_content": null,
            "visibility": null,
            "align_self": null,
            "height": null,
            "min_height": null,
            "padding": null,
            "grid_auto_rows": null,
            "grid_gap": null,
            "max_width": null,
            "order": null,
            "_view_module_version": "1.2.0",
            "grid_template_areas": null,
            "object_position": null,
            "object_fit": null,
            "grid_auto_columns": null,
            "margin": null,
            "display": null,
            "left": null
          }
        },
        "8e927e46d98540909fd022774ef0b98d": {
          "model_module": "@jupyter-widgets/controls",
          "model_name": "SliderStyleModel",
          "state": {
            "_view_name": "StyleView",
            "handle_color": null,
            "_model_name": "SliderStyleModel",
            "description_width": "",
            "_view_module": "@jupyter-widgets/base",
            "_model_module_version": "1.5.0",
            "_view_count": null,
            "_view_module_version": "1.2.0",
            "_model_module": "@jupyter-widgets/controls"
          }
        },
        "41e45de1973249779626132031d46fb5": {
          "model_module": "@jupyter-widgets/base",
          "model_name": "LayoutModel",
          "state": {
            "_view_name": "LayoutView",
            "grid_template_rows": null,
            "right": null,
            "justify_content": null,
            "_view_module": "@jupyter-widgets/base",
            "overflow": null,
            "_model_module_version": "1.2.0",
            "_view_count": null,
            "flex_flow": null,
            "width": null,
            "min_width": null,
            "border": null,
            "align_items": null,
            "bottom": null,
            "_model_module": "@jupyter-widgets/base",
            "top": null,
            "grid_column": null,
            "overflow_y": null,
            "overflow_x": null,
            "grid_auto_flow": null,
            "grid_area": null,
            "grid_template_columns": null,
            "flex": null,
            "_model_name": "LayoutModel",
            "justify_items": null,
            "grid_row": null,
            "max_height": null,
            "align_content": null,
            "visibility": null,
            "align_self": null,
            "height": null,
            "min_height": null,
            "padding": null,
            "grid_auto_rows": null,
            "grid_gap": null,
            "max_width": null,
            "order": null,
            "_view_module_version": "1.2.0",
            "grid_template_areas": null,
            "object_position": null,
            "object_fit": null,
            "grid_auto_columns": null,
            "margin": null,
            "display": null,
            "left": null
          }
        },
        "236bb49d38904c1c9caff75e7ee7b095": {
          "model_module": "@jupyter-widgets/controls",
          "model_name": "SliderStyleModel",
          "state": {
            "_view_name": "StyleView",
            "handle_color": null,
            "_model_name": "SliderStyleModel",
            "description_width": "",
            "_view_module": "@jupyter-widgets/base",
            "_model_module_version": "1.5.0",
            "_view_count": null,
            "_view_module_version": "1.2.0",
            "_model_module": "@jupyter-widgets/controls"
          }
        },
        "d16faf481ac14772a01f600f5cc0b0fc": {
          "model_module": "@jupyter-widgets/base",
          "model_name": "LayoutModel",
          "state": {
            "_view_name": "LayoutView",
            "grid_template_rows": null,
            "right": null,
            "justify_content": null,
            "_view_module": "@jupyter-widgets/base",
            "overflow": null,
            "_model_module_version": "1.2.0",
            "_view_count": null,
            "flex_flow": null,
            "width": null,
            "min_width": null,
            "border": null,
            "align_items": null,
            "bottom": null,
            "_model_module": "@jupyter-widgets/base",
            "top": null,
            "grid_column": null,
            "overflow_y": null,
            "overflow_x": null,
            "grid_auto_flow": null,
            "grid_area": null,
            "grid_template_columns": null,
            "flex": null,
            "_model_name": "LayoutModel",
            "justify_items": null,
            "grid_row": null,
            "max_height": null,
            "align_content": null,
            "visibility": null,
            "align_self": null,
            "height": null,
            "min_height": null,
            "padding": null,
            "grid_auto_rows": null,
            "grid_gap": null,
            "max_width": null,
            "order": null,
            "_view_module_version": "1.2.0",
            "grid_template_areas": null,
            "object_position": null,
            "object_fit": null,
            "grid_auto_columns": null,
            "margin": null,
            "display": null,
            "left": null
          }
        },
        "4e8093ea7d2b4f1da0fd6446ea44f440": {
          "model_module": "@jupyter-widgets/base",
          "model_name": "LayoutModel",
          "state": {
            "_view_name": "LayoutView",
            "grid_template_rows": null,
            "right": null,
            "justify_content": null,
            "_view_module": "@jupyter-widgets/base",
            "overflow": null,
            "_model_module_version": "1.2.0",
            "_view_count": null,
            "flex_flow": null,
            "width": null,
            "min_width": null,
            "border": null,
            "align_items": null,
            "bottom": null,
            "_model_module": "@jupyter-widgets/base",
            "top": null,
            "grid_column": null,
            "overflow_y": null,
            "overflow_x": null,
            "grid_auto_flow": null,
            "grid_area": null,
            "grid_template_columns": null,
            "flex": null,
            "_model_name": "LayoutModel",
            "justify_items": null,
            "grid_row": null,
            "max_height": null,
            "align_content": null,
            "visibility": null,
            "align_self": null,
            "height": "650px",
            "min_height": null,
            "padding": null,
            "grid_auto_rows": null,
            "grid_gap": null,
            "max_width": null,
            "order": null,
            "_view_module_version": "1.2.0",
            "grid_template_areas": null,
            "object_position": null,
            "object_fit": null,
            "grid_auto_columns": null,
            "margin": null,
            "display": null,
            "left": null
          }
        },
        "4ad05087be4b46a6bfe2fbed8a7394e8": {
          "model_module": "@jupyter-widgets/controls",
          "model_name": "VBoxModel",
          "state": {
            "_view_name": "VBoxView",
            "_dom_classes": [
              "widget-interact"
            ],
            "_model_name": "VBoxModel",
            "_view_module": "@jupyter-widgets/controls",
            "_model_module_version": "1.5.0",
            "_view_count": null,
            "_view_module_version": "1.5.0",
            "box_style": "",
            "layout": "IPY_MODEL_96cfa0415fab486fba2da835896a8253",
            "_model_module": "@jupyter-widgets/controls",
            "children": [
              "IPY_MODEL_1328d2d8e03f4c9f8eef92bca4909808",
              "IPY_MODEL_d94138860fd94949b847be27c7323c7e",
              "IPY_MODEL_409021d1bfe54c1fbde18f2c8e00e8ef",
              "IPY_MODEL_bb35951e3ed14250bc6a70d40cfcedc6",
              "IPY_MODEL_951e3f7bba9e43b2a1503cbb568f3dde",
              "IPY_MODEL_9da5e574617b434f9dda3d699fcf1308",
              "IPY_MODEL_9900b060fe0a40099252dad6a2f4c4ba",
              "IPY_MODEL_8f605fb02f034714a9f17c9e0321cc36",
              "IPY_MODEL_aef9d495632b4d298764df423b4430de",
              "IPY_MODEL_b3c5007446de405eb8e923b48868bfb1"
            ]
          }
        },
        "96cfa0415fab486fba2da835896a8253": {
          "model_module": "@jupyter-widgets/base",
          "model_name": "LayoutModel",
          "state": {
            "_view_name": "LayoutView",
            "grid_template_rows": null,
            "right": null,
            "justify_content": null,
            "_view_module": "@jupyter-widgets/base",
            "overflow": null,
            "_model_module_version": "1.2.0",
            "_view_count": null,
            "flex_flow": null,
            "width": null,
            "min_width": null,
            "border": null,
            "align_items": null,
            "bottom": null,
            "_model_module": "@jupyter-widgets/base",
            "top": null,
            "grid_column": null,
            "overflow_y": null,
            "overflow_x": null,
            "grid_auto_flow": null,
            "grid_area": null,
            "grid_template_columns": null,
            "flex": null,
            "_model_name": "LayoutModel",
            "justify_items": null,
            "grid_row": null,
            "max_height": null,
            "align_content": null,
            "visibility": null,
            "align_self": null,
            "height": null,
            "min_height": null,
            "padding": null,
            "grid_auto_rows": null,
            "grid_gap": null,
            "max_width": null,
            "order": null,
            "_view_module_version": "1.2.0",
            "grid_template_areas": null,
            "object_position": null,
            "object_fit": null,
            "grid_auto_columns": null,
            "margin": null,
            "display": null,
            "left": null
          }
        },
        "1328d2d8e03f4c9f8eef92bca4909808": {
          "model_module": "@jupyter-widgets/controls",
          "model_name": "FloatSliderModel",
          "state": {
            "_view_name": "FloatSliderView",
            "style": "IPY_MODEL_2a51a9e1606b4af4954224b4409fe61d",
            "_dom_classes": [],
            "description": "N0X",
            "step": 1,
            "_model_name": "FloatSliderModel",
            "orientation": "horizontal",
            "max": 10,
            "_view_module": "@jupyter-widgets/controls",
            "_model_module_version": "1.5.0",
            "value": 1,
            "_view_count": null,
            "disabled": false,
            "_view_module_version": "1.5.0",
            "min": 0,
            "continuous_update": true,
            "readout_format": ".2f",
            "description_tooltip": null,
            "readout": true,
            "_model_module": "@jupyter-widgets/controls",
            "layout": "IPY_MODEL_55e61a2d8bc04f44be5e71b949efad67"
          }
        },
        "d94138860fd94949b847be27c7323c7e": {
          "model_module": "@jupyter-widgets/controls",
          "model_name": "FloatSliderModel",
          "state": {
            "_view_name": "FloatSliderView",
            "style": "IPY_MODEL_291977b2eff84ff3bb9fe1d8408b5158",
            "_dom_classes": [],
            "description": "N0Y",
            "step": 1,
            "_model_name": "FloatSliderModel",
            "orientation": "horizontal",
            "max": 10,
            "_view_module": "@jupyter-widgets/controls",
            "_model_module_version": "1.5.0",
            "value": 0,
            "_view_count": null,
            "disabled": false,
            "_view_module_version": "1.5.0",
            "min": 0,
            "continuous_update": true,
            "readout_format": ".2f",
            "description_tooltip": null,
            "readout": true,
            "_model_module": "@jupyter-widgets/controls",
            "layout": "IPY_MODEL_a6966eaaeb4145d188121e5c6dd0b86c"
          }
        },
        "409021d1bfe54c1fbde18f2c8e00e8ef": {
          "model_module": "@jupyter-widgets/controls",
          "model_name": "FloatTextModel",
          "state": {
            "_view_name": "FloatTextView",
            "style": "IPY_MODEL_ec839dbd94ea4a13bd2cd40f8a4bd4a4",
            "_dom_classes": [],
            "description": "T",
            "_model_name": "FloatTextModel",
            "_view_module": "@jupyter-widgets/controls",
            "_model_module_version": "1.5.0",
            "value": 40,
            "_view_count": null,
            "disabled": false,
            "_view_module_version": "1.5.0",
            "continuous_update": false,
            "step": 1,
            "description_tooltip": null,
            "_model_module": "@jupyter-widgets/controls",
            "layout": "IPY_MODEL_00a2bf808e5b470db99b4f8f62268a5f"
          }
        },
        "bb35951e3ed14250bc6a70d40cfcedc6": {
          "model_module": "@jupyter-widgets/controls",
          "model_name": "FloatSliderModel",
          "state": {
            "_view_name": "FloatSliderView",
            "style": "IPY_MODEL_c46f65cf07dc44d3b9470689badb3518",
            "_dom_classes": [],
            "description": "<MATH>&alpha;</MATH>",
            "step": 0.1,
            "_model_name": "FloatSliderModel",
            "orientation": "horizontal",
            "max": 10,
            "_view_module": "@jupyter-widgets/controls",
            "_model_module_version": "1.5.0",
            "value": 2.5,
            "_view_count": null,
            "disabled": false,
            "_view_module_version": "1.5.0",
            "min": 0.1,
            "continuous_update": true,
            "readout_format": ".3f",
            "description_tooltip": null,
            "readout": true,
            "_model_module": "@jupyter-widgets/controls",
            "layout": "IPY_MODEL_d1cad7760e6a4bf298c1c3c86abf4cc2"
          }
        },
        "951e3f7bba9e43b2a1503cbb568f3dde": {
          "model_module": "@jupyter-widgets/controls",
          "model_name": "FloatSliderModel",
          "state": {
            "_view_name": "FloatSliderView",
            "style": "IPY_MODEL_c5c56f06687e408fa9a60b418473bbb2",
            "_dom_classes": [],
            "description": "<MATH>&beta;</MATH>",
            "step": 0.1,
            "_model_name": "FloatSliderModel",
            "orientation": "horizontal",
            "max": 10,
            "_view_module": "@jupyter-widgets/controls",
            "_model_module_version": "1.5.0",
            "value": 1,
            "_view_count": null,
            "disabled": false,
            "_view_module_version": "1.5.0",
            "min": 0.01,
            "continuous_update": true,
            "readout_format": ".3f",
            "description_tooltip": null,
            "readout": true,
            "_model_module": "@jupyter-widgets/controls",
            "layout": "IPY_MODEL_82c505e926764a5d8c347d45fcf434a5"
          }
        },
        "9da5e574617b434f9dda3d699fcf1308": {
          "model_module": "@jupyter-widgets/controls",
          "model_name": "FloatSliderModel",
          "state": {
            "_view_name": "FloatSliderView",
            "style": "IPY_MODEL_49626c7840cf43f5a2b2fb7eb18daa25",
            "_dom_classes": [],
            "description": "<MATH>&delta;</MATH>",
            "step": 0.01,
            "_model_name": "FloatSliderModel",
            "orientation": "horizontal",
            "max": 0.1,
            "_view_module": "@jupyter-widgets/controls",
            "_model_module_version": "1.5.0",
            "value": 0.07,
            "_view_count": null,
            "disabled": false,
            "_view_module_version": "1.5.0",
            "min": 0.01,
            "continuous_update": true,
            "readout_format": ".3f",
            "description_tooltip": null,
            "readout": true,
            "_model_module": "@jupyter-widgets/controls",
            "layout": "IPY_MODEL_8033261a3583432eb38be6f7b2ae3f97"
          }
        },
        "9900b060fe0a40099252dad6a2f4c4ba": {
          "model_module": "@jupyter-widgets/controls",
          "model_name": "FloatSliderModel",
          "state": {
            "_view_name": "FloatSliderView",
            "style": "IPY_MODEL_a831262c350541c2a5721206b61910ef",
            "_dom_classes": [],
            "description": "<MATH>&gamma;</MATH>",
            "step": 0.01,
            "_model_name": "FloatSliderModel",
            "orientation": "horizontal",
            "max": 0.3,
            "_view_module": "@jupyter-widgets/controls",
            "_model_module_version": "1.5.0",
            "value": 0.14,
            "_view_count": null,
            "disabled": false,
            "_view_module_version": "1.5.0",
            "min": 0,
            "continuous_update": true,
            "readout_format": ".2f",
            "description_tooltip": null,
            "readout": true,
            "_model_module": "@jupyter-widgets/controls",
            "layout": "IPY_MODEL_3788d3b793374a75b44bc7e522477fe8"
          }
        },
        "8f605fb02f034714a9f17c9e0321cc36": {
          "model_module": "@jupyter-widgets/controls",
          "model_name": "FloatSliderModel",
          "state": {
            "_view_name": "FloatSliderView",
            "style": "IPY_MODEL_330c7b3bde5a4007b63ed0606f9f9166",
            "_dom_classes": [],
            "description": "<MATH>&rho;</MATH>",
            "step": 0.01,
            "_model_name": "FloatSliderModel",
            "orientation": "horizontal",
            "max": 10,
            "_view_module": "@jupyter-widgets/controls",
            "_model_module_version": "1.5.0",
            "value": 2.05,
            "_view_count": null,
            "disabled": false,
            "_view_module_version": "1.5.0",
            "min": 0,
            "continuous_update": true,
            "readout_format": ".2f",
            "description_tooltip": null,
            "readout": true,
            "_model_module": "@jupyter-widgets/controls",
            "layout": "IPY_MODEL_160e6d23a42f47c7826f9523222feb60"
          }
        },
        "aef9d495632b4d298764df423b4430de": {
          "model_module": "@jupyter-widgets/controls",
          "model_name": "FloatSliderModel",
          "state": {
            "_view_name": "FloatSliderView",
            "style": "IPY_MODEL_27a7c486a167431b827a820f65fa252f",
            "_dom_classes": [],
            "description": "<MATH>&psi;</MATH>",
            "step": 0.01,
            "_model_name": "FloatSliderModel",
            "orientation": "horizontal",
            "max": 10,
            "_view_module": "@jupyter-widgets/controls",
            "_model_module_version": "1.5.0",
            "value": 0,
            "_view_count": null,
            "disabled": false,
            "_view_module_version": "1.5.0",
            "min": 0,
            "continuous_update": true,
            "readout_format": ".2f",
            "description_tooltip": null,
            "readout": true,
            "_model_module": "@jupyter-widgets/controls",
            "layout": "IPY_MODEL_33905f4501b641b896b09bbc6e8b9da3"
          }
        },
        "b3c5007446de405eb8e923b48868bfb1": {
          "model_module": "@jupyter-widgets/output",
          "model_name": "OutputModel",
          "state": {
            "_view_name": "OutputView",
            "msg_id": "",
            "_dom_classes": [],
            "_model_name": "OutputModel",
            "outputs": [
              {
                "output_type": "display_data",
                "metadata": {
                  "tags": [],
                  "needs_background": "light"
                },
                "image/png": "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\n",
                "text/plain": "<Figure size 1800x720 with 2 Axes>"
              }
            ],
            "_view_module": "@jupyter-widgets/output",
            "_model_module_version": "1.0.0",
            "_view_count": null,
            "_view_module_version": "1.0.0",
            "layout": "IPY_MODEL_0aeb926d1fcf4b098c7481c01c879db3",
            "_model_module": "@jupyter-widgets/output"
          }
        },
        "2a51a9e1606b4af4954224b4409fe61d": {
          "model_module": "@jupyter-widgets/controls",
          "model_name": "SliderStyleModel",
          "state": {
            "_view_name": "StyleView",
            "handle_color": null,
            "_model_name": "SliderStyleModel",
            "description_width": "",
            "_view_module": "@jupyter-widgets/base",
            "_model_module_version": "1.5.0",
            "_view_count": null,
            "_view_module_version": "1.2.0",
            "_model_module": "@jupyter-widgets/controls"
          }
        },
        "55e61a2d8bc04f44be5e71b949efad67": {
          "model_module": "@jupyter-widgets/base",
          "model_name": "LayoutModel",
          "state": {
            "_view_name": "LayoutView",
            "grid_template_rows": null,
            "right": null,
            "justify_content": null,
            "_view_module": "@jupyter-widgets/base",
            "overflow": null,
            "_model_module_version": "1.2.0",
            "_view_count": null,
            "flex_flow": null,
            "width": null,
            "min_width": null,
            "border": null,
            "align_items": null,
            "bottom": null,
            "_model_module": "@jupyter-widgets/base",
            "top": null,
            "grid_column": null,
            "overflow_y": null,
            "overflow_x": null,
            "grid_auto_flow": null,
            "grid_area": null,
            "grid_template_columns": null,
            "flex": null,
            "_model_name": "LayoutModel",
            "justify_items": null,
            "grid_row": null,
            "max_height": null,
            "align_content": null,
            "visibility": null,
            "align_self": null,
            "height": null,
            "min_height": null,
            "padding": null,
            "grid_auto_rows": null,
            "grid_gap": null,
            "max_width": null,
            "order": null,
            "_view_module_version": "1.2.0",
            "grid_template_areas": null,
            "object_position": null,
            "object_fit": null,
            "grid_auto_columns": null,
            "margin": null,
            "display": null,
            "left": null
          }
        },
        "291977b2eff84ff3bb9fe1d8408b5158": {
          "model_module": "@jupyter-widgets/controls",
          "model_name": "SliderStyleModel",
          "state": {
            "_view_name": "StyleView",
            "handle_color": null,
            "_model_name": "SliderStyleModel",
            "description_width": "",
            "_view_module": "@jupyter-widgets/base",
            "_model_module_version": "1.5.0",
            "_view_count": null,
            "_view_module_version": "1.2.0",
            "_model_module": "@jupyter-widgets/controls"
          }
        },
        "a6966eaaeb4145d188121e5c6dd0b86c": {
          "model_module": "@jupyter-widgets/base",
          "model_name": "LayoutModel",
          "state": {
            "_view_name": "LayoutView",
            "grid_template_rows": null,
            "right": null,
            "justify_content": null,
            "_view_module": "@jupyter-widgets/base",
            "overflow": null,
            "_model_module_version": "1.2.0",
            "_view_count": null,
            "flex_flow": null,
            "width": null,
            "min_width": null,
            "border": null,
            "align_items": null,
            "bottom": null,
            "_model_module": "@jupyter-widgets/base",
            "top": null,
            "grid_column": null,
            "overflow_y": null,
            "overflow_x": null,
            "grid_auto_flow": null,
            "grid_area": null,
            "grid_template_columns": null,
            "flex": null,
            "_model_name": "LayoutModel",
            "justify_items": null,
            "grid_row": null,
            "max_height": null,
            "align_content": null,
            "visibility": null,
            "align_self": null,
            "height": null,
            "min_height": null,
            "padding": null,
            "grid_auto_rows": null,
            "grid_gap": null,
            "max_width": null,
            "order": null,
            "_view_module_version": "1.2.0",
            "grid_template_areas": null,
            "object_position": null,
            "object_fit": null,
            "grid_auto_columns": null,
            "margin": null,
            "display": null,
            "left": null
          }
        },
        "ec839dbd94ea4a13bd2cd40f8a4bd4a4": {
          "model_module": "@jupyter-widgets/controls",
          "model_name": "DescriptionStyleModel",
          "state": {
            "_view_name": "StyleView",
            "_model_name": "DescriptionStyleModel",
            "description_width": "",
            "_view_module": "@jupyter-widgets/base",
            "_model_module_version": "1.5.0",
            "_view_count": null,
            "_view_module_version": "1.2.0",
            "_model_module": "@jupyter-widgets/controls"
          }
        },
        "00a2bf808e5b470db99b4f8f62268a5f": {
          "model_module": "@jupyter-widgets/base",
          "model_name": "LayoutModel",
          "state": {
            "_view_name": "LayoutView",
            "grid_template_rows": null,
            "right": null,
            "justify_content": null,
            "_view_module": "@jupyter-widgets/base",
            "overflow": null,
            "_model_module_version": "1.2.0",
            "_view_count": null,
            "flex_flow": null,
            "width": null,
            "min_width": null,
            "border": null,
            "align_items": null,
            "bottom": null,
            "_model_module": "@jupyter-widgets/base",
            "top": null,
            "grid_column": null,
            "overflow_y": null,
            "overflow_x": null,
            "grid_auto_flow": null,
            "grid_area": null,
            "grid_template_columns": null,
            "flex": null,
            "_model_name": "LayoutModel",
            "justify_items": null,
            "grid_row": null,
            "max_height": null,
            "align_content": null,
            "visibility": null,
            "align_self": null,
            "height": null,
            "min_height": null,
            "padding": null,
            "grid_auto_rows": null,
            "grid_gap": null,
            "max_width": null,
            "order": null,
            "_view_module_version": "1.2.0",
            "grid_template_areas": null,
            "object_position": null,
            "object_fit": null,
            "grid_auto_columns": null,
            "margin": null,
            "display": null,
            "left": null
          }
        },
        "c46f65cf07dc44d3b9470689badb3518": {
          "model_module": "@jupyter-widgets/controls",
          "model_name": "SliderStyleModel",
          "state": {
            "_view_name": "StyleView",
            "handle_color": null,
            "_model_name": "SliderStyleModel",
            "description_width": "",
            "_view_module": "@jupyter-widgets/base",
            "_model_module_version": "1.5.0",
            "_view_count": null,
            "_view_module_version": "1.2.0",
            "_model_module": "@jupyter-widgets/controls"
          }
        },
        "d1cad7760e6a4bf298c1c3c86abf4cc2": {
          "model_module": "@jupyter-widgets/base",
          "model_name": "LayoutModel",
          "state": {
            "_view_name": "LayoutView",
            "grid_template_rows": null,
            "right": null,
            "justify_content": null,
            "_view_module": "@jupyter-widgets/base",
            "overflow": null,
            "_model_module_version": "1.2.0",
            "_view_count": null,
            "flex_flow": null,
            "width": null,
            "min_width": null,
            "border": null,
            "align_items": null,
            "bottom": null,
            "_model_module": "@jupyter-widgets/base",
            "top": null,
            "grid_column": null,
            "overflow_y": null,
            "overflow_x": null,
            "grid_auto_flow": null,
            "grid_area": null,
            "grid_template_columns": null,
            "flex": null,
            "_model_name": "LayoutModel",
            "justify_items": null,
            "grid_row": null,
            "max_height": null,
            "align_content": null,
            "visibility": null,
            "align_self": null,
            "height": null,
            "min_height": null,
            "padding": null,
            "grid_auto_rows": null,
            "grid_gap": null,
            "max_width": null,
            "order": null,
            "_view_module_version": "1.2.0",
            "grid_template_areas": null,
            "object_position": null,
            "object_fit": null,
            "grid_auto_columns": null,
            "margin": null,
            "display": null,
            "left": null
          }
        },
        "c5c56f06687e408fa9a60b418473bbb2": {
          "model_module": "@jupyter-widgets/controls",
          "model_name": "SliderStyleModel",
          "state": {
            "_view_name": "StyleView",
            "handle_color": null,
            "_model_name": "SliderStyleModel",
            "description_width": "",
            "_view_module": "@jupyter-widgets/base",
            "_model_module_version": "1.5.0",
            "_view_count": null,
            "_view_module_version": "1.2.0",
            "_model_module": "@jupyter-widgets/controls"
          }
        },
        "82c505e926764a5d8c347d45fcf434a5": {
          "model_module": "@jupyter-widgets/base",
          "model_name": "LayoutModel",
          "state": {
            "_view_name": "LayoutView",
            "grid_template_rows": null,
            "right": null,
            "justify_content": null,
            "_view_module": "@jupyter-widgets/base",
            "overflow": null,
            "_model_module_version": "1.2.0",
            "_view_count": null,
            "flex_flow": null,
            "width": null,
            "min_width": null,
            "border": null,
            "align_items": null,
            "bottom": null,
            "_model_module": "@jupyter-widgets/base",
            "top": null,
            "grid_column": null,
            "overflow_y": null,
            "overflow_x": null,
            "grid_auto_flow": null,
            "grid_area": null,
            "grid_template_columns": null,
            "flex": null,
            "_model_name": "LayoutModel",
            "justify_items": null,
            "grid_row": null,
            "max_height": null,
            "align_content": null,
            "visibility": null,
            "align_self": null,
            "height": null,
            "min_height": null,
            "padding": null,
            "grid_auto_rows": null,
            "grid_gap": null,
            "max_width": null,
            "order": null,
            "_view_module_version": "1.2.0",
            "grid_template_areas": null,
            "object_position": null,
            "object_fit": null,
            "grid_auto_columns": null,
            "margin": null,
            "display": null,
            "left": null
          }
        },
        "49626c7840cf43f5a2b2fb7eb18daa25": {
          "model_module": "@jupyter-widgets/controls",
          "model_name": "SliderStyleModel",
          "state": {
            "_view_name": "StyleView",
            "handle_color": null,
            "_model_name": "SliderStyleModel",
            "description_width": "",
            "_view_module": "@jupyter-widgets/base",
            "_model_module_version": "1.5.0",
            "_view_count": null,
            "_view_module_version": "1.2.0",
            "_model_module": "@jupyter-widgets/controls"
          }
        },
        "8033261a3583432eb38be6f7b2ae3f97": {
          "model_module": "@jupyter-widgets/base",
          "model_name": "LayoutModel",
          "state": {
            "_view_name": "LayoutView",
            "grid_template_rows": null,
            "right": null,
            "justify_content": null,
            "_view_module": "@jupyter-widgets/base",
            "overflow": null,
            "_model_module_version": "1.2.0",
            "_view_count": null,
            "flex_flow": null,
            "width": null,
            "min_width": null,
            "border": null,
            "align_items": null,
            "bottom": null,
            "_model_module": "@jupyter-widgets/base",
            "top": null,
            "grid_column": null,
            "overflow_y": null,
            "overflow_x": null,
            "grid_auto_flow": null,
            "grid_area": null,
            "grid_template_columns": null,
            "flex": null,
            "_model_name": "LayoutModel",
            "justify_items": null,
            "grid_row": null,
            "max_height": null,
            "align_content": null,
            "visibility": null,
            "align_self": null,
            "height": null,
            "min_height": null,
            "padding": null,
            "grid_auto_rows": null,
            "grid_gap": null,
            "max_width": null,
            "order": null,
            "_view_module_version": "1.2.0",
            "grid_template_areas": null,
            "object_position": null,
            "object_fit": null,
            "grid_auto_columns": null,
            "margin": null,
            "display": null,
            "left": null
          }
        },
        "a831262c350541c2a5721206b61910ef": {
          "model_module": "@jupyter-widgets/controls",
          "model_name": "SliderStyleModel",
          "state": {
            "_view_name": "StyleView",
            "handle_color": null,
            "_model_name": "SliderStyleModel",
            "description_width": "",
            "_view_module": "@jupyter-widgets/base",
            "_model_module_version": "1.5.0",
            "_view_count": null,
            "_view_module_version": "1.2.0",
            "_model_module": "@jupyter-widgets/controls"
          }
        },
        "3788d3b793374a75b44bc7e522477fe8": {
          "model_module": "@jupyter-widgets/base",
          "model_name": "LayoutModel",
          "state": {
            "_view_name": "LayoutView",
            "grid_template_rows": null,
            "right": null,
            "justify_content": null,
            "_view_module": "@jupyter-widgets/base",
            "overflow": null,
            "_model_module_version": "1.2.0",
            "_view_count": null,
            "flex_flow": null,
            "width": null,
            "min_width": null,
            "border": null,
            "align_items": null,
            "bottom": null,
            "_model_module": "@jupyter-widgets/base",
            "top": null,
            "grid_column": null,
            "overflow_y": null,
            "overflow_x": null,
            "grid_auto_flow": null,
            "grid_area": null,
            "grid_template_columns": null,
            "flex": null,
            "_model_name": "LayoutModel",
            "justify_items": null,
            "grid_row": null,
            "max_height": null,
            "align_content": null,
            "visibility": null,
            "align_self": null,
            "height": null,
            "min_height": null,
            "padding": null,
            "grid_auto_rows": null,
            "grid_gap": null,
            "max_width": null,
            "order": null,
            "_view_module_version": "1.2.0",
            "grid_template_areas": null,
            "object_position": null,
            "object_fit": null,
            "grid_auto_columns": null,
            "margin": null,
            "display": null,
            "left": null
          }
        },
        "330c7b3bde5a4007b63ed0606f9f9166": {
          "model_module": "@jupyter-widgets/controls",
          "model_name": "SliderStyleModel",
          "state": {
            "_view_name": "StyleView",
            "handle_color": null,
            "_model_name": "SliderStyleModel",
            "description_width": "",
            "_view_module": "@jupyter-widgets/base",
            "_model_module_version": "1.5.0",
            "_view_count": null,
            "_view_module_version": "1.2.0",
            "_model_module": "@jupyter-widgets/controls"
          }
        },
        "160e6d23a42f47c7826f9523222feb60": {
          "model_module": "@jupyter-widgets/base",
          "model_name": "LayoutModel",
          "state": {
            "_view_name": "LayoutView",
            "grid_template_rows": null,
            "right": null,
            "justify_content": null,
            "_view_module": "@jupyter-widgets/base",
            "overflow": null,
            "_model_module_version": "1.2.0",
            "_view_count": null,
            "flex_flow": null,
            "width": null,
            "min_width": null,
            "border": null,
            "align_items": null,
            "bottom": null,
            "_model_module": "@jupyter-widgets/base",
            "top": null,
            "grid_column": null,
            "overflow_y": null,
            "overflow_x": null,
            "grid_auto_flow": null,
            "grid_area": null,
            "grid_template_columns": null,
            "flex": null,
            "_model_name": "LayoutModel",
            "justify_items": null,
            "grid_row": null,
            "max_height": null,
            "align_content": null,
            "visibility": null,
            "align_self": null,
            "height": null,
            "min_height": null,
            "padding": null,
            "grid_auto_rows": null,
            "grid_gap": null,
            "max_width": null,
            "order": null,
            "_view_module_version": "1.2.0",
            "grid_template_areas": null,
            "object_position": null,
            "object_fit": null,
            "grid_auto_columns": null,
            "margin": null,
            "display": null,
            "left": null
          }
        },
        "27a7c486a167431b827a820f65fa252f": {
          "model_module": "@jupyter-widgets/controls",
          "model_name": "SliderStyleModel",
          "state": {
            "_view_name": "StyleView",
            "handle_color": null,
            "_model_name": "SliderStyleModel",
            "description_width": "",
            "_view_module": "@jupyter-widgets/base",
            "_model_module_version": "1.5.0",
            "_view_count": null,
            "_view_module_version": "1.2.0",
            "_model_module": "@jupyter-widgets/controls"
          }
        },
        "33905f4501b641b896b09bbc6e8b9da3": {
          "model_module": "@jupyter-widgets/base",
          "model_name": "LayoutModel",
          "state": {
            "_view_name": "LayoutView",
            "grid_template_rows": null,
            "right": null,
            "justify_content": null,
            "_view_module": "@jupyter-widgets/base",
            "overflow": null,
            "_model_module_version": "1.2.0",
            "_view_count": null,
            "flex_flow": null,
            "width": null,
            "min_width": null,
            "border": null,
            "align_items": null,
            "bottom": null,
            "_model_module": "@jupyter-widgets/base",
            "top": null,
            "grid_column": null,
            "overflow_y": null,
            "overflow_x": null,
            "grid_auto_flow": null,
            "grid_area": null,
            "grid_template_columns": null,
            "flex": null,
            "_model_name": "LayoutModel",
            "justify_items": null,
            "grid_row": null,
            "max_height": null,
            "align_content": null,
            "visibility": null,
            "align_self": null,
            "height": null,
            "min_height": null,
            "padding": null,
            "grid_auto_rows": null,
            "grid_gap": null,
            "max_width": null,
            "order": null,
            "_view_module_version": "1.2.0",
            "grid_template_areas": null,
            "object_position": null,
            "object_fit": null,
            "grid_auto_columns": null,
            "margin": null,
            "display": null,
            "left": null
          }
        },
        "0aeb926d1fcf4b098c7481c01c879db3": {
          "model_module": "@jupyter-widgets/base",
          "model_name": "LayoutModel",
          "state": {
            "_view_name": "LayoutView",
            "grid_template_rows": null,
            "right": null,
            "justify_content": null,
            "_view_module": "@jupyter-widgets/base",
            "overflow": null,
            "_model_module_version": "1.2.0",
            "_view_count": null,
            "flex_flow": null,
            "width": null,
            "min_width": null,
            "border": null,
            "align_items": null,
            "bottom": null,
            "_model_module": "@jupyter-widgets/base",
            "top": null,
            "grid_column": null,
            "overflow_y": null,
            "overflow_x": null,
            "grid_auto_flow": null,
            "grid_area": null,
            "grid_template_columns": null,
            "flex": null,
            "_model_name": "LayoutModel",
            "justify_items": null,
            "grid_row": null,
            "max_height": null,
            "align_content": null,
            "visibility": null,
            "align_self": null,
            "height": "650px",
            "min_height": null,
            "padding": null,
            "grid_auto_rows": null,
            "grid_gap": null,
            "max_width": null,
            "order": null,
            "_view_module_version": "1.2.0",
            "grid_template_areas": null,
            "object_position": null,
            "object_fit": null,
            "grid_auto_columns": null,
            "margin": null,
            "display": null,
            "left": null
          }
        },
        "705d029d210347c7afb20a7f9b65ddef": {
          "model_module": "@jupyter-widgets/controls",
          "model_name": "VBoxModel",
          "state": {
            "_view_name": "VBoxView",
            "_dom_classes": [
              "widget-interact"
            ],
            "_model_name": "VBoxModel",
            "_view_module": "@jupyter-widgets/controls",
            "_model_module_version": "1.5.0",
            "_view_count": null,
            "_view_module_version": "1.5.0",
            "box_style": "",
            "layout": "IPY_MODEL_77a9e843c79e4632922ee115ecf6f67d",
            "_model_module": "@jupyter-widgets/controls",
            "children": [
              "IPY_MODEL_97a56f505c64489da4c69b4d400df5de",
              "IPY_MODEL_4fb21a987e524123841515d267bc1cd3",
              "IPY_MODEL_c151e4b9a6a54380b162eff517a14f5b",
              "IPY_MODEL_bc3a2a54fe41439993711b1cddb80c64",
              "IPY_MODEL_8fce8fa3d7694af6b7d96fd4614924dc",
              "IPY_MODEL_927136eca00146d7811f7368435067af",
              "IPY_MODEL_81743402be174e0596a2123ed0d4f29d",
              "IPY_MODEL_697b59672116406f9a7f9b6784d364db",
              "IPY_MODEL_48399771132b4a06b1077cc83940ec4d"
            ]
          }
        },
        "77a9e843c79e4632922ee115ecf6f67d": {
          "model_module": "@jupyter-widgets/base",
          "model_name": "LayoutModel",
          "state": {
            "_view_name": "LayoutView",
            "grid_template_rows": null,
            "right": null,
            "justify_content": null,
            "_view_module": "@jupyter-widgets/base",
            "overflow": null,
            "_model_module_version": "1.2.0",
            "_view_count": null,
            "flex_flow": null,
            "width": null,
            "min_width": null,
            "border": null,
            "align_items": null,
            "bottom": null,
            "_model_module": "@jupyter-widgets/base",
            "top": null,
            "grid_column": null,
            "overflow_y": null,
            "overflow_x": null,
            "grid_auto_flow": null,
            "grid_area": null,
            "grid_template_columns": null,
            "flex": null,
            "_model_name": "LayoutModel",
            "justify_items": null,
            "grid_row": null,
            "max_height": null,
            "align_content": null,
            "visibility": null,
            "align_self": null,
            "height": null,
            "min_height": null,
            "padding": null,
            "grid_auto_rows": null,
            "grid_gap": null,
            "max_width": null,
            "order": null,
            "_view_module_version": "1.2.0",
            "grid_template_areas": null,
            "object_position": null,
            "object_fit": null,
            "grid_auto_columns": null,
            "margin": null,
            "display": null,
            "left": null
          }
        },
        "97a56f505c64489da4c69b4d400df5de": {
          "model_module": "@jupyter-widgets/controls",
          "model_name": "FloatSliderModel",
          "state": {
            "_view_name": "FloatSliderView",
            "style": "IPY_MODEL_ee135d5843804933bb5bee9c4a2f65c7",
            "_dom_classes": [],
            "description": "N0X",
            "step": 1,
            "_model_name": "FloatSliderModel",
            "orientation": "horizontal",
            "max": 10,
            "_view_module": "@jupyter-widgets/controls",
            "_model_module_version": "1.5.0",
            "value": 1,
            "_view_count": null,
            "disabled": false,
            "_view_module_version": "1.5.0",
            "min": 0,
            "continuous_update": true,
            "readout_format": ".2f",
            "description_tooltip": null,
            "readout": true,
            "_model_module": "@jupyter-widgets/controls",
            "layout": "IPY_MODEL_6d3f218208d941c690353a6721206345"
          }
        },
        "4fb21a987e524123841515d267bc1cd3": {
          "model_module": "@jupyter-widgets/controls",
          "model_name": "FloatSliderModel",
          "state": {
            "_view_name": "FloatSliderView",
            "style": "IPY_MODEL_b6a214d0cc4e4de38243472659a6dce9",
            "_dom_classes": [],
            "description": "N0Y",
            "step": 1,
            "_model_name": "FloatSliderModel",
            "orientation": "horizontal",
            "max": 10,
            "_view_module": "@jupyter-widgets/controls",
            "_model_module_version": "1.5.0",
            "value": 1,
            "_view_count": null,
            "disabled": false,
            "_view_module_version": "1.5.0",
            "min": 0,
            "continuous_update": true,
            "readout_format": ".2f",
            "description_tooltip": null,
            "readout": true,
            "_model_module": "@jupyter-widgets/controls",
            "layout": "IPY_MODEL_2b3f5df4bd234579927c36fc0ffbf3f0"
          }
        },
        "c151e4b9a6a54380b162eff517a14f5b": {
          "model_module": "@jupyter-widgets/controls",
          "model_name": "FloatTextModel",
          "state": {
            "_view_name": "FloatTextView",
            "style": "IPY_MODEL_62b3b114869946dd8b662724e1372093",
            "_dom_classes": [],
            "description": "T",
            "_model_name": "FloatTextModel",
            "_view_module": "@jupyter-widgets/controls",
            "_model_module_version": "1.5.0",
            "value": 20,
            "_view_count": null,
            "disabled": false,
            "_view_module_version": "1.5.0",
            "continuous_update": false,
            "step": 1,
            "description_tooltip": null,
            "_model_module": "@jupyter-widgets/controls",
            "layout": "IPY_MODEL_6a905490fd894b5d8a8280546d47e9a5"
          }
        },
        "bc3a2a54fe41439993711b1cddb80c64": {
          "model_module": "@jupyter-widgets/controls",
          "model_name": "FloatSliderModel",
          "state": {
            "_view_name": "FloatSliderView",
            "style": "IPY_MODEL_d7822c77e91340ebb03b81aed62864fe",
            "_dom_classes": [],
            "description": "<MATH>&alpha;</MATH>",
            "step": 0.1,
            "_model_name": "FloatSliderModel",
            "orientation": "horizontal",
            "max": 4,
            "_view_module": "@jupyter-widgets/controls",
            "_model_module_version": "1.5.0",
            "value": 2,
            "_view_count": null,
            "disabled": false,
            "_view_module_version": "1.5.0",
            "min": 0,
            "continuous_update": true,
            "readout_format": ".3f",
            "description_tooltip": null,
            "readout": true,
            "_model_module": "@jupyter-widgets/controls",
            "layout": "IPY_MODEL_5a0c5c6ec7aa485d9d5fc9dd38d04bc0"
          }
        },
        "8fce8fa3d7694af6b7d96fd4614924dc": {
          "model_module": "@jupyter-widgets/controls",
          "model_name": "FloatSliderModel",
          "state": {
            "_view_name": "FloatSliderView",
            "style": "IPY_MODEL_9eb11f5c7a0a41db83c35b5ce9c627c9",
            "_dom_classes": [],
            "description": "<MATH>&omega;</MATH>",
            "step": 0.1,
            "_model_name": "FloatSliderModel",
            "orientation": "horizontal",
            "max": 10,
            "_view_module": "@jupyter-widgets/controls",
            "_model_module_version": "1.5.0",
            "value": 7.9,
            "_view_count": null,
            "disabled": false,
            "_view_module_version": "1.5.0",
            "min": 0,
            "continuous_update": true,
            "readout_format": ".3f",
            "description_tooltip": null,
            "readout": true,
            "_model_module": "@jupyter-widgets/controls",
            "layout": "IPY_MODEL_47a7b97f69c64b838d85f7a9c0e2049d"
          }
        },
        "927136eca00146d7811f7368435067af": {
          "model_module": "@jupyter-widgets/controls",
          "model_name": "FloatSliderModel",
          "state": {
            "_view_name": "FloatSliderView",
            "style": "IPY_MODEL_859d41ce9605464197c75e11a3459e80",
            "_dom_classes": [],
            "description": "<MATH>&beta;</MATH>",
            "step": 0.1,
            "_model_name": "FloatSliderModel",
            "orientation": "horizontal",
            "max": 4,
            "_view_module": "@jupyter-widgets/controls",
            "_model_module_version": "1.5.0",
            "value": 2.91,
            "_view_count": null,
            "disabled": false,
            "_view_module_version": "1.5.0",
            "min": 0.01,
            "continuous_update": true,
            "readout_format": ".3f",
            "description_tooltip": null,
            "readout": true,
            "_model_module": "@jupyter-widgets/controls",
            "layout": "IPY_MODEL_f3f67719f7e0491b8cdb90f57ba2f3d0"
          }
        },
        "81743402be174e0596a2123ed0d4f29d": {
          "model_module": "@jupyter-widgets/controls",
          "model_name": "FloatSliderModel",
          "state": {
            "_view_name": "FloatSliderView",
            "style": "IPY_MODEL_e6b3ddd3c956455189ffa817ecdc31f7",
            "_dom_classes": [],
            "description": "<MATH>&delta;</MATH>",
            "step": 0.01,
            "_model_name": "FloatSliderModel",
            "orientation": "horizontal",
            "max": 2,
            "_view_module": "@jupyter-widgets/controls",
            "_model_module_version": "1.5.0",
            "value": 1.12,
            "_view_count": null,
            "disabled": false,
            "_view_module_version": "1.5.0",
            "min": 0.01,
            "continuous_update": true,
            "readout_format": ".3f",
            "description_tooltip": null,
            "readout": true,
            "_model_module": "@jupyter-widgets/controls",
            "layout": "IPY_MODEL_6bf664fcbd4e47b3b5948a54281d2db3"
          }
        },
        "697b59672116406f9a7f9b6784d364db": {
          "model_module": "@jupyter-widgets/controls",
          "model_name": "FloatSliderModel",
          "state": {
            "_view_name": "FloatSliderView",
            "style": "IPY_MODEL_8d172e0d07124486a56680a0c0cd3ec1",
            "_dom_classes": [],
            "description": "<MATH>&gamma;</MATH>",
            "step": 0.01,
            "_model_name": "FloatSliderModel",
            "orientation": "horizontal",
            "max": 2,
            "_view_module": "@jupyter-widgets/controls",
            "_model_module_version": "1.5.0",
            "value": 1.58,
            "_view_count": null,
            "disabled": false,
            "_view_module_version": "1.5.0",
            "min": 0,
            "continuous_update": true,
            "readout_format": ".2f",
            "description_tooltip": null,
            "readout": true,
            "_model_module": "@jupyter-widgets/controls",
            "layout": "IPY_MODEL_d1758645aeb04813a44cc06f5212071a"
          }
        },
        "48399771132b4a06b1077cc83940ec4d": {
          "model_module": "@jupyter-widgets/output",
          "model_name": "OutputModel",
          "state": {
            "_view_name": "OutputView",
            "msg_id": "696316656f3f4790b59c8bd82ac009df",
            "_dom_classes": [],
            "_model_name": "OutputModel",
            "outputs": [
              {
                "output_type": "display_data",
                "metadata": {
                  "tags": [],
                  "needs_background": "light"
                },
                "image/png": "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\n",
                "text/plain": "<Figure size 1800x720 with 2 Axes>"
              }
            ],
            "_view_module": "@jupyter-widgets/output",
            "_model_module_version": "1.0.0",
            "_view_count": null,
            "_view_module_version": "1.0.0",
            "layout": "IPY_MODEL_cb7ba5e434924874ab1d5115767688a8",
            "_model_module": "@jupyter-widgets/output"
          }
        },
        "ee135d5843804933bb5bee9c4a2f65c7": {
          "model_module": "@jupyter-widgets/controls",
          "model_name": "SliderStyleModel",
          "state": {
            "_view_name": "StyleView",
            "handle_color": null,
            "_model_name": "SliderStyleModel",
            "description_width": "",
            "_view_module": "@jupyter-widgets/base",
            "_model_module_version": "1.5.0",
            "_view_count": null,
            "_view_module_version": "1.2.0",
            "_model_module": "@jupyter-widgets/controls"
          }
        },
        "6d3f218208d941c690353a6721206345": {
          "model_module": "@jupyter-widgets/base",
          "model_name": "LayoutModel",
          "state": {
            "_view_name": "LayoutView",
            "grid_template_rows": null,
            "right": null,
            "justify_content": null,
            "_view_module": "@jupyter-widgets/base",
            "overflow": null,
            "_model_module_version": "1.2.0",
            "_view_count": null,
            "flex_flow": null,
            "width": null,
            "min_width": null,
            "border": null,
            "align_items": null,
            "bottom": null,
            "_model_module": "@jupyter-widgets/base",
            "top": null,
            "grid_column": null,
            "overflow_y": null,
            "overflow_x": null,
            "grid_auto_flow": null,
            "grid_area": null,
            "grid_template_columns": null,
            "flex": null,
            "_model_name": "LayoutModel",
            "justify_items": null,
            "grid_row": null,
            "max_height": null,
            "align_content": null,
            "visibility": null,
            "align_self": null,
            "height": null,
            "min_height": null,
            "padding": null,
            "grid_auto_rows": null,
            "grid_gap": null,
            "max_width": null,
            "order": null,
            "_view_module_version": "1.2.0",
            "grid_template_areas": null,
            "object_position": null,
            "object_fit": null,
            "grid_auto_columns": null,
            "margin": null,
            "display": null,
            "left": null
          }
        },
        "b6a214d0cc4e4de38243472659a6dce9": {
          "model_module": "@jupyter-widgets/controls",
          "model_name": "SliderStyleModel",
          "state": {
            "_view_name": "StyleView",
            "handle_color": null,
            "_model_name": "SliderStyleModel",
            "description_width": "",
            "_view_module": "@jupyter-widgets/base",
            "_model_module_version": "1.5.0",
            "_view_count": null,
            "_view_module_version": "1.2.0",
            "_model_module": "@jupyter-widgets/controls"
          }
        },
        "2b3f5df4bd234579927c36fc0ffbf3f0": {
          "model_module": "@jupyter-widgets/base",
          "model_name": "LayoutModel",
          "state": {
            "_view_name": "LayoutView",
            "grid_template_rows": null,
            "right": null,
            "justify_content": null,
            "_view_module": "@jupyter-widgets/base",
            "overflow": null,
            "_model_module_version": "1.2.0",
            "_view_count": null,
            "flex_flow": null,
            "width": null,
            "min_width": null,
            "border": null,
            "align_items": null,
            "bottom": null,
            "_model_module": "@jupyter-widgets/base",
            "top": null,
            "grid_column": null,
            "overflow_y": null,
            "overflow_x": null,
            "grid_auto_flow": null,
            "grid_area": null,
            "grid_template_columns": null,
            "flex": null,
            "_model_name": "LayoutModel",
            "justify_items": null,
            "grid_row": null,
            "max_height": null,
            "align_content": null,
            "visibility": null,
            "align_self": null,
            "height": null,
            "min_height": null,
            "padding": null,
            "grid_auto_rows": null,
            "grid_gap": null,
            "max_width": null,
            "order": null,
            "_view_module_version": "1.2.0",
            "grid_template_areas": null,
            "object_position": null,
            "object_fit": null,
            "grid_auto_columns": null,
            "margin": null,
            "display": null,
            "left": null
          }
        },
        "62b3b114869946dd8b662724e1372093": {
          "model_module": "@jupyter-widgets/controls",
          "model_name": "DescriptionStyleModel",
          "state": {
            "_view_name": "StyleView",
            "_model_name": "DescriptionStyleModel",
            "description_width": "",
            "_view_module": "@jupyter-widgets/base",
            "_model_module_version": "1.5.0",
            "_view_count": null,
            "_view_module_version": "1.2.0",
            "_model_module": "@jupyter-widgets/controls"
          }
        },
        "6a905490fd894b5d8a8280546d47e9a5": {
          "model_module": "@jupyter-widgets/base",
          "model_name": "LayoutModel",
          "state": {
            "_view_name": "LayoutView",
            "grid_template_rows": null,
            "right": null,
            "justify_content": null,
            "_view_module": "@jupyter-widgets/base",
            "overflow": null,
            "_model_module_version": "1.2.0",
            "_view_count": null,
            "flex_flow": null,
            "width": null,
            "min_width": null,
            "border": null,
            "align_items": null,
            "bottom": null,
            "_model_module": "@jupyter-widgets/base",
            "top": null,
            "grid_column": null,
            "overflow_y": null,
            "overflow_x": null,
            "grid_auto_flow": null,
            "grid_area": null,
            "grid_template_columns": null,
            "flex": null,
            "_model_name": "LayoutModel",
            "justify_items": null,
            "grid_row": null,
            "max_height": null,
            "align_content": null,
            "visibility": null,
            "align_self": null,
            "height": null,
            "min_height": null,
            "padding": null,
            "grid_auto_rows": null,
            "grid_gap": null,
            "max_width": null,
            "order": null,
            "_view_module_version": "1.2.0",
            "grid_template_areas": null,
            "object_position": null,
            "object_fit": null,
            "grid_auto_columns": null,
            "margin": null,
            "display": null,
            "left": null
          }
        },
        "d7822c77e91340ebb03b81aed62864fe": {
          "model_module": "@jupyter-widgets/controls",
          "model_name": "SliderStyleModel",
          "state": {
            "_view_name": "StyleView",
            "handle_color": null,
            "_model_name": "SliderStyleModel",
            "description_width": "",
            "_view_module": "@jupyter-widgets/base",
            "_model_module_version": "1.5.0",
            "_view_count": null,
            "_view_module_version": "1.2.0",
            "_model_module": "@jupyter-widgets/controls"
          }
        },
        "5a0c5c6ec7aa485d9d5fc9dd38d04bc0": {
          "model_module": "@jupyter-widgets/base",
          "model_name": "LayoutModel",
          "state": {
            "_view_name": "LayoutView",
            "grid_template_rows": null,
            "right": null,
            "justify_content": null,
            "_view_module": "@jupyter-widgets/base",
            "overflow": null,
            "_model_module_version": "1.2.0",
            "_view_count": null,
            "flex_flow": null,
            "width": null,
            "min_width": null,
            "border": null,
            "align_items": null,
            "bottom": null,
            "_model_module": "@jupyter-widgets/base",
            "top": null,
            "grid_column": null,
            "overflow_y": null,
            "overflow_x": null,
            "grid_auto_flow": null,
            "grid_area": null,
            "grid_template_columns": null,
            "flex": null,
            "_model_name": "LayoutModel",
            "justify_items": null,
            "grid_row": null,
            "max_height": null,
            "align_content": null,
            "visibility": null,
            "align_self": null,
            "height": null,
            "min_height": null,
            "padding": null,
            "grid_auto_rows": null,
            "grid_gap": null,
            "max_width": null,
            "order": null,
            "_view_module_version": "1.2.0",
            "grid_template_areas": null,
            "object_position": null,
            "object_fit": null,
            "grid_auto_columns": null,
            "margin": null,
            "display": null,
            "left": null
          }
        },
        "9eb11f5c7a0a41db83c35b5ce9c627c9": {
          "model_module": "@jupyter-widgets/controls",
          "model_name": "SliderStyleModel",
          "state": {
            "_view_name": "StyleView",
            "handle_color": null,
            "_model_name": "SliderStyleModel",
            "description_width": "",
            "_view_module": "@jupyter-widgets/base",
            "_model_module_version": "1.5.0",
            "_view_count": null,
            "_view_module_version": "1.2.0",
            "_model_module": "@jupyter-widgets/controls"
          }
        },
        "47a7b97f69c64b838d85f7a9c0e2049d": {
          "model_module": "@jupyter-widgets/base",
          "model_name": "LayoutModel",
          "state": {
            "_view_name": "LayoutView",
            "grid_template_rows": null,
            "right": null,
            "justify_content": null,
            "_view_module": "@jupyter-widgets/base",
            "overflow": null,
            "_model_module_version": "1.2.0",
            "_view_count": null,
            "flex_flow": null,
            "width": null,
            "min_width": null,
            "border": null,
            "align_items": null,
            "bottom": null,
            "_model_module": "@jupyter-widgets/base",
            "top": null,
            "grid_column": null,
            "overflow_y": null,
            "overflow_x": null,
            "grid_auto_flow": null,
            "grid_area": null,
            "grid_template_columns": null,
            "flex": null,
            "_model_name": "LayoutModel",
            "justify_items": null,
            "grid_row": null,
            "max_height": null,
            "align_content": null,
            "visibility": null,
            "align_self": null,
            "height": null,
            "min_height": null,
            "padding": null,
            "grid_auto_rows": null,
            "grid_gap": null,
            "max_width": null,
            "order": null,
            "_view_module_version": "1.2.0",
            "grid_template_areas": null,
            "object_position": null,
            "object_fit": null,
            "grid_auto_columns": null,
            "margin": null,
            "display": null,
            "left": null
          }
        },
        "859d41ce9605464197c75e11a3459e80": {
          "model_module": "@jupyter-widgets/controls",
          "model_name": "SliderStyleModel",
          "state": {
            "_view_name": "StyleView",
            "handle_color": null,
            "_model_name": "SliderStyleModel",
            "description_width": "",
            "_view_module": "@jupyter-widgets/base",
            "_model_module_version": "1.5.0",
            "_view_count": null,
            "_view_module_version": "1.2.0",
            "_model_module": "@jupyter-widgets/controls"
          }
        },
        "f3f67719f7e0491b8cdb90f57ba2f3d0": {
          "model_module": "@jupyter-widgets/base",
          "model_name": "LayoutModel",
          "state": {
            "_view_name": "LayoutView",
            "grid_template_rows": null,
            "right": null,
            "justify_content": null,
            "_view_module": "@jupyter-widgets/base",
            "overflow": null,
            "_model_module_version": "1.2.0",
            "_view_count": null,
            "flex_flow": null,
            "width": null,
            "min_width": null,
            "border": null,
            "align_items": null,
            "bottom": null,
            "_model_module": "@jupyter-widgets/base",
            "top": null,
            "grid_column": null,
            "overflow_y": null,
            "overflow_x": null,
            "grid_auto_flow": null,
            "grid_area": null,
            "grid_template_columns": null,
            "flex": null,
            "_model_name": "LayoutModel",
            "justify_items": null,
            "grid_row": null,
            "max_height": null,
            "align_content": null,
            "visibility": null,
            "align_self": null,
            "height": null,
            "min_height": null,
            "padding": null,
            "grid_auto_rows": null,
            "grid_gap": null,
            "max_width": null,
            "order": null,
            "_view_module_version": "1.2.0",
            "grid_template_areas": null,
            "object_position": null,
            "object_fit": null,
            "grid_auto_columns": null,
            "margin": null,
            "display": null,
            "left": null
          }
        },
        "e6b3ddd3c956455189ffa817ecdc31f7": {
          "model_module": "@jupyter-widgets/controls",
          "model_name": "SliderStyleModel",
          "state": {
            "_view_name": "StyleView",
            "handle_color": null,
            "_model_name": "SliderStyleModel",
            "description_width": "",
            "_view_module": "@jupyter-widgets/base",
            "_model_module_version": "1.5.0",
            "_view_count": null,
            "_view_module_version": "1.2.0",
            "_model_module": "@jupyter-widgets/controls"
          }
        },
        "6bf664fcbd4e47b3b5948a54281d2db3": {
          "model_module": "@jupyter-widgets/base",
          "model_name": "LayoutModel",
          "state": {
            "_view_name": "LayoutView",
            "grid_template_rows": null,
            "right": null,
            "justify_content": null,
            "_view_module": "@jupyter-widgets/base",
            "overflow": null,
            "_model_module_version": "1.2.0",
            "_view_count": null,
            "flex_flow": null,
            "width": null,
            "min_width": null,
            "border": null,
            "align_items": null,
            "bottom": null,
            "_model_module": "@jupyter-widgets/base",
            "top": null,
            "grid_column": null,
            "overflow_y": null,
            "overflow_x": null,
            "grid_auto_flow": null,
            "grid_area": null,
            "grid_template_columns": null,
            "flex": null,
            "_model_name": "LayoutModel",
            "justify_items": null,
            "grid_row": null,
            "max_height": null,
            "align_content": null,
            "visibility": null,
            "align_self": null,
            "height": null,
            "min_height": null,
            "padding": null,
            "grid_auto_rows": null,
            "grid_gap": null,
            "max_width": null,
            "order": null,
            "_view_module_version": "1.2.0",
            "grid_template_areas": null,
            "object_position": null,
            "object_fit": null,
            "grid_auto_columns": null,
            "margin": null,
            "display": null,
            "left": null
          }
        },
        "8d172e0d07124486a56680a0c0cd3ec1": {
          "model_module": "@jupyter-widgets/controls",
          "model_name": "SliderStyleModel",
          "state": {
            "_view_name": "StyleView",
            "handle_color": null,
            "_model_name": "SliderStyleModel",
            "description_width": "",
            "_view_module": "@jupyter-widgets/base",
            "_model_module_version": "1.5.0",
            "_view_count": null,
            "_view_module_version": "1.2.0",
            "_model_module": "@jupyter-widgets/controls"
          }
        },
        "d1758645aeb04813a44cc06f5212071a": {
          "model_module": "@jupyter-widgets/base",
          "model_name": "LayoutModel",
          "state": {
            "_view_name": "LayoutView",
            "grid_template_rows": null,
            "right": null,
            "justify_content": null,
            "_view_module": "@jupyter-widgets/base",
            "overflow": null,
            "_model_module_version": "1.2.0",
            "_view_count": null,
            "flex_flow": null,
            "width": null,
            "min_width": null,
            "border": null,
            "align_items": null,
            "bottom": null,
            "_model_module": "@jupyter-widgets/base",
            "top": null,
            "grid_column": null,
            "overflow_y": null,
            "overflow_x": null,
            "grid_auto_flow": null,
            "grid_area": null,
            "grid_template_columns": null,
            "flex": null,
            "_model_name": "LayoutModel",
            "justify_items": null,
            "grid_row": null,
            "max_height": null,
            "align_content": null,
            "visibility": null,
            "align_self": null,
            "height": null,
            "min_height": null,
            "padding": null,
            "grid_auto_rows": null,
            "grid_gap": null,
            "max_width": null,
            "order": null,
            "_view_module_version": "1.2.0",
            "grid_template_areas": null,
            "object_position": null,
            "object_fit": null,
            "grid_auto_columns": null,
            "margin": null,
            "display": null,
            "left": null
          }
        },
        "cb7ba5e434924874ab1d5115767688a8": {
          "model_module": "@jupyter-widgets/base",
          "model_name": "LayoutModel",
          "state": {
            "_view_name": "LayoutView",
            "grid_template_rows": null,
            "right": null,
            "justify_content": null,
            "_view_module": "@jupyter-widgets/base",
            "overflow": null,
            "_model_module_version": "1.2.0",
            "_view_count": null,
            "flex_flow": null,
            "width": null,
            "min_width": null,
            "border": null,
            "align_items": null,
            "bottom": null,
            "_model_module": "@jupyter-widgets/base",
            "top": null,
            "grid_column": null,
            "overflow_y": null,
            "overflow_x": null,
            "grid_auto_flow": null,
            "grid_area": null,
            "grid_template_columns": null,
            "flex": null,
            "_model_name": "LayoutModel",
            "justify_items": null,
            "grid_row": null,
            "max_height": null,
            "align_content": null,
            "visibility": null,
            "align_self": null,
            "height": "650px",
            "min_height": null,
            "padding": null,
            "grid_auto_rows": null,
            "grid_gap": null,
            "max_width": null,
            "order": null,
            "_view_module_version": "1.2.0",
            "grid_template_areas": null,
            "object_position": null,
            "object_fit": null,
            "grid_auto_columns": null,
            "margin": null,
            "display": null,
            "left": null
          }
        }
      }
    }
  },
  "cells": [
    {
      "cell_type": "code",
      "metadata": {
        "id": "G2Sbq3C8hpyB",
        "colab": {
          "base_uri": "https://localhost:8080/",
          "height": 16
        },
        "outputId": "c27c7e74-3c93-4146-e17a-9169c101bf2b"
      },
      "source": [
        "import numpy as np\n",
        "from scipy.integrate import odeint\n",
        "import matplotlib.pyplot as plt\n",
        "from ipywidgets import interactive,IntSlider,FloatSlider,IntText,FloatText\n",
        "from IPython.display import Javascript\n",
        "def resize_colab_cell():\n",
        "  display(Javascript('google.colab.output.setIframeHeight(0, true, {maxHeight: 5000})'))\n",
        "get_ipython().events.register('pre_run_cell', resize_colab_cell)"
      ],
      "execution_count": null,
      "outputs": [
        {
          "output_type": "display_data",
          "data": {
            "application/javascript": [
              "google.colab.output.setIframeHeight(0, true, {maxHeight: 5000})"
            ],
            "text/plain": [
              "<IPython.core.display.Javascript object>"
            ]
          },
          "metadata": {
            "tags": []
          }
        },
        {
          "output_type": "display_data",
          "data": {
            "application/javascript": [
              "google.colab.output.setIframeHeight(0, true, {maxHeight: 5000})"
            ],
            "text/plain": [
              "<IPython.core.display.Javascript object>"
            ]
          },
          "metadata": {
            "tags": []
          }
        },
        {
          "output_type": "display_data",
          "data": {
            "application/javascript": [
              "google.colab.output.setIframeHeight(0, true, {maxHeight: 5000})"
            ],
            "text/plain": [
              "<IPython.core.display.Javascript object>"
            ]
          },
          "metadata": {
            "tags": []
          }
        }
      ]
    },
    {
      "cell_type": "markdown",
      "metadata": {
        "id": "hcbAjarjJxwW"
      },
      "source": [
        "We denote with $X$ and $Y$ the number of preys and predators, respectively. We now make the following assumptions:\n",
        "* The prey population *Y* have an unlimited food supply at all times.\n",
        "*  In the absence of predators, the prey population $X$ would grow proportionally to its size with a constant of proportionality α>0 which Volterra called coefficient of auto-increase.\n",
        "* In the absence of preys, the predator population $Y$ would decline proportionally to its size and the constant of proportionality is β>0.\n",
        "* When both predator and prey are present, a decline in the prey population and a growth in the predator population will occur, each at a rate proportional to the frequency of encounters between individuals of the two species. These two constants of proportionality are indicate by δ>0 and γ>0.\n",
        "    \n",
        "We can translate these words into a system of two coupled ODEs, (remember $X=$ preys while $Y$= predators)\n",
        "    \\begin{cases}\n",
        "      \\frac{dX}{dt}=\\alpha X- \\delta XY\\\\\n",
        "      \\frac{dY}{dt}=-\\beta Y + \\gamma XY\n",
        "    \\end{cases}"
      ]
    },
    {
      "cell_type": "markdown",
      "metadata": {
        "id": "d94_MV0bjXqM"
      },
      "source": [
        "The stationary points of this model can be found by rewriting the above equations as follows\n",
        "    \\begin{cases}\n",
        "      \\frac{dX}{dt}=(\\alpha - \\delta Y)X\\\\\n",
        "      \\frac{dY}{dt}=-(\\beta - \\gamma X)Y\n",
        "    \\end{cases}  \n",
        "  and imposing the two equations to be equal to zero simultaneously\n",
        "  \\begin{cases}\n",
        "      X(\\alpha - \\delta Y)=0\\\\\n",
        "      Y(-\\beta  +\\gamma X)=0\n",
        " \\end{cases}\n",
        "  "
      ]
    },
    {
      "cell_type": "markdown",
      "metadata": {
        "id": "FNZxXyIkk9z-"
      },
      "source": [
        "ln this model there are two stationary points given by:\n",
        "\n",
        "$P_{1}=(0,0)$\n",
        "$P_{2}=(\\beta/\\gamma,\\alpha/\\delta)$"
      ]
    },
    {
      "cell_type": "markdown",
      "metadata": {
        "id": "AW-lj3jKmcNc"
      },
      "source": [
        "In order to determine the nature of the stationary point we perform a linear analysis of our system be defining the *Jacobian* matrix $J$ as \n",
        "\\begin{equation}\n",
        "J =\n",
        "\\begin{bmatrix}\n",
        "  \\frac{\\partial F(X,Y)}{\\partial X} & \n",
        "    \\frac{\\partial F(X,Y)}{\\partial Y}\\\\[1ex] \n",
        "  \\frac{\\partial G(X,Y)}{\\partial X} & \n",
        "    \\frac{\\partial G(X,Y)}{\\partial Y}\n",
        "\\end{bmatrix}\n",
        "\\end{equation}\n",
        "where we have defined \n",
        "\\begin{equation}\n",
        "    F(X,Y)= \\alpha X- \\delta XY,\\quad\\text{and}\\quad  G(X,Y)=-\\beta Y + \\gamma XY.\n",
        "\\end{equation}\n"
      ]
    },
    {
      "cell_type": "markdown",
      "metadata": {
        "id": "s7FeKTxUm1tx"
      },
      "source": [
        "The Jacobian matrix becomes \n",
        "\\begin{equation}\n",
        "J(X,Y)=\n",
        "\\begin{bmatrix}\n",
        "  \\alpha-\\delta Y& \n",
        "    -\\delta X\\\\[1ex] \n",
        "  \\gamma Y& -\\beta +\\gamma X\n",
        "\\end{bmatrix},\n",
        "\\end{equation}"
      ]
    },
    {
      "cell_type": "markdown",
      "metadata": {
        "id": "TGlEdtK8qKt2"
      },
      "source": [
        "\\begin{equation}\n",
        "J(0,0)=\n",
        "\\begin{bmatrix}\n",
        "  \\alpha& \n",
        "    0\\\\[1ex] \n",
        "  0& -\\beta \n",
        "\\end{bmatrix}.\n",
        "\\end{equation}\n",
        "\n",
        "\n",
        "\\begin{equation}\n",
        "    \\lambda_1=\\alpha, \\qquad \\text{and}\\qquad \\lambda_2=-\\beta.   \\end{equation}\n",
        "    \n",
        " The eigenvectors associated with the two eigenvalues are given by solving the following system of equations\n",
        "\\begin{equation}\n",
        "\\begin{bmatrix}\n",
        "  \\alpha & \n",
        "    0\\\\[1ex] \n",
        "  0& -\\beta\n",
        "\\end{bmatrix}\n",
        "\\begin{bmatrix}\n",
        "  x\\\\[1ex] \n",
        "  y\\end{bmatrix}=\\begin{bmatrix}\n",
        "  \\lambda x\\\\[1ex] \n",
        "  \\lambda y\\end{bmatrix},\n",
        "\\end{equation}\n",
        "which means \n",
        "\\begin{equation}\n",
        "    \\begin{cases}\n",
        "      \\alpha x = \\lambda x\\\\\n",
        "      -\\beta y = \\lambda y\n",
        "    \\end{cases}\n",
        "    \\qquad \n",
        "    \\begin{cases}\n",
        "     (\\alpha -\\lambda) x = 0\\\\\n",
        "     (-\\beta -\\lambda)y = 0\n",
        "    \\end{cases}\n",
        "\\end{equation}\n",
        "\n",
        "Therefore, if $\\lambda=\\alpha$ \n",
        "\\begin{equation}\n",
        "    \\begin{cases}\n",
        "      0=0\\\\\n",
        "      (-\\beta-\\alpha)y =0\n",
        "    \\end{cases}\n",
        "    \\qquad \n",
        "    \\begin{cases}\n",
        "      x \\quad \\text{any value}\\\\\n",
        "      y =0\n",
        "    \\end{cases}\n",
        "\\end{equation}\n",
        "and if $\\lambda=-\\beta$ \n",
        "\\begin{equation}\n",
        "    \\begin{cases}\n",
        "      (\\alpha + \\beta)y =0 \\\\\n",
        "      0=0\n",
        "    \\end{cases}\n",
        "    \\qquad \n",
        "    \\begin{cases}\n",
        "      x=0\\\\\n",
        "      y \\quad \\text{any value}\n",
        "    \\end{cases}\n",
        "\\end{equation}\n",
        "In conclusion, the eigenvectors associated with the two eigenvalues are given by \n",
        "\\begin{equation}\n",
        "    \\textbf{e}_1=\\left( {\\begin{array}{c}\n",
        "   1\\\\\n",
        "   0\\\\\n",
        "  \\end{array} } \\right)\n",
        "\\qquad \\text{and} \\qquad \n",
        "    \\textbf{e}_2=\\left( {\\begin{array}{c}\n",
        "   0\\\\\n",
        "   1\\\\\n",
        "  \\end{array} } \\right).\n",
        "\\end{equation}"
      ]
    },
    {
      "cell_type": "markdown",
      "metadata": {
        "id": "m5v_in4JrFW5"
      },
      "source": [
        "Knowledge of eigenvalues and eigenvectors allows us to write down the general solution for our system\n",
        "\\begin{equation}\n",
        "\\left( {\\begin{array}{c}\n",
        "   X(t) \\\\\n",
        "   Y(t) \\\\\n",
        "  \\end{array} } \\right) =C_1e^{-\\lambda_1 t}\\mathbf{e_1} +C_2 e^{\\lambda_2 t}\\mathbf{e_2}=C_1e^{-\\alpha t}\\left( {\\begin{array}{c}\n",
        "   0 \\\\\n",
        "   1 \\\\\n",
        "  \\end{array} } \\right) +C_2 e^{\\beta t}\\left( {\\begin{array}{c}\n",
        "   1 \\\\\n",
        "   0 \\\\\n",
        "  \\end{array} } \\right).\n",
        "\\end{equation} \n",
        "We can see that if $t\\to+\\infty$, the second exponential diverges while the first one converges to zero."
      ]
    },
    {
      "cell_type": "code",
      "metadata": {
        "id": "-NqRxjD6iL_U",
        "colab": {
          "base_uri": "https://localhost:8080/",
          "height": 17
        },
        "outputId": "47769b32-534c-4ad2-90b4-fcb538e5d252"
      },
      "source": [
        "def lotkaVolterra(N,t,a,d,b,g):\n",
        "\tdN0=a*N[0]-d*N[0]*N[1]\n",
        "\tdN1=g*N[0]*N[1]-b*N[1]\n",
        "\treturn np.array([dN0,dN1])\n"
      ],
      "execution_count": null,
      "outputs": [
        {
          "output_type": "display_data",
          "data": {
            "application/javascript": [
              "google.colab.output.setIframeHeight(0, true, {maxHeight: 5000})"
            ],
            "text/plain": [
              "<IPython.core.display.Javascript object>"
            ]
          },
          "metadata": {
            "tags": []
          }
        },
        {
          "output_type": "display_data",
          "data": {
            "application/javascript": [
              "google.colab.output.setIframeHeight(0, true, {maxHeight: 5000})"
            ],
            "text/plain": [
              "<IPython.core.display.Javascript object>"
            ]
          },
          "metadata": {
            "tags": []
          }
        },
        {
          "output_type": "display_data",
          "data": {
            "application/javascript": [
              "google.colab.output.setIframeHeight(0, true, {maxHeight: 5000})"
            ],
            "text/plain": [
              "<IPython.core.display.Javascript object>"
            ]
          },
          "metadata": {
            "tags": []
          }
        },
        {
          "output_type": "display_data",
          "data": {
            "application/javascript": [
              "google.colab.output.setIframeHeight(0, true, {maxHeight: 5000})"
            ],
            "text/plain": [
              "<IPython.core.display.Javascript object>"
            ]
          },
          "metadata": {
            "tags": []
          }
        }
      ]
    },
    {
      "cell_type": "code",
      "metadata": {
        "id": "DbFU5XOKidy-",
        "colab": {
          "base_uri": "https://localhost:8080/",
          "height": 17
        },
        "outputId": "7111ce41-0fc9-4264-f484-5adc332afd67"
      },
      "source": [
        "a=2.0\n",
        "d=0.06\n",
        "b=1.0\n",
        "g=0.05\n",
        "T=np.linspace(1,40,10000)"
      ],
      "execution_count": null,
      "outputs": [
        {
          "output_type": "display_data",
          "data": {
            "application/javascript": [
              "google.colab.output.setIframeHeight(0, true, {maxHeight: 5000})"
            ],
            "text/plain": [
              "<IPython.core.display.Javascript object>"
            ]
          },
          "metadata": {
            "tags": []
          }
        },
        {
          "output_type": "display_data",
          "data": {
            "application/javascript": [
              "google.colab.output.setIframeHeight(0, true, {maxHeight: 5000})"
            ],
            "text/plain": [
              "<IPython.core.display.Javascript object>"
            ]
          },
          "metadata": {
            "tags": []
          }
        },
        {
          "output_type": "display_data",
          "data": {
            "application/javascript": [
              "google.colab.output.setIframeHeight(0, true, {maxHeight: 5000})"
            ],
            "text/plain": [
              "<IPython.core.display.Javascript object>"
            ]
          },
          "metadata": {
            "tags": []
          }
        },
        {
          "output_type": "display_data",
          "data": {
            "application/javascript": [
              "google.colab.output.setIframeHeight(0, true, {maxHeight: 5000})"
            ],
            "text/plain": [
              "<IPython.core.display.Javascript object>"
            ]
          },
          "metadata": {
            "tags": []
          }
        }
      ]
    },
    {
      "cell_type": "code",
      "metadata": {
        "id": "AxGzX29JuvD-",
        "colab": {
          "base_uri": "https://localhost:8080/",
          "height": 283
        },
        "outputId": "31e88d0a-9e2d-43f3-df77-74b5bc1686a5"
      },
      "source": [
        "fig, ax = plt.subplots()\n",
        "ax.plot(0,0,\"ko\")\n",
        "ax.plot(b/g,a/d,\"bo\")\n",
        "ax.set_xlabel('X')\n",
        "ax.set_ylabel('Y')\n",
        "plt.show() "
      ],
      "execution_count": null,
      "outputs": [
        {
          "output_type": "display_data",
          "data": {
            "application/javascript": [
              "google.colab.output.setIframeHeight(0, true, {maxHeight: 5000})"
            ],
            "text/plain": [
              "<IPython.core.display.Javascript object>"
            ]
          },
          "metadata": {
            "tags": []
          }
        },
        {
          "output_type": "display_data",
          "data": {
            "application/javascript": [
              "google.colab.output.setIframeHeight(0, true, {maxHeight: 5000})"
            ],
            "text/plain": [
              "<IPython.core.display.Javascript object>"
            ]
          },
          "metadata": {
            "tags": []
          }
        },
        {
          "output_type": "display_data",
          "data": {
            "application/javascript": [
              "google.colab.output.setIframeHeight(0, true, {maxHeight: 5000})"
            ],
            "text/plain": [
              "<IPython.core.display.Javascript object>"
            ]
          },
          "metadata": {
            "tags": []
          }
        },
        {
          "output_type": "display_data",
          "data": {
            "application/javascript": [
              "google.colab.output.setIframeHeight(0, true, {maxHeight: 5000})"
            ],
            "text/plain": [
              "<IPython.core.display.Javascript object>"
            ]
          },
          "metadata": {
            "tags": []
          }
        },
        {
          "output_type": "display_data",
          "data": {
            "image/png": "[encoded data removed]",
            "text/plain": [
              "<Figure size 432x288 with 1 Axes>"
            ]
          },
          "metadata": {
            "tags": [],
            "needs_background": "light"
          }
        }
      ]
    },
    {
      "cell_type": "code",
      "metadata": {
        "id": "bGS2cZ1nvrZv",
        "colab": {
          "base_uri": "https://localhost:8080/",
          "height": 283
        },
        "outputId": "3a43ae6f-50e8-402a-c407-e8b96ef8f64d"
      },
      "source": [
        "fig, ax = plt.subplots()\n",
        "ax.plot(0,0,\"ko\")\n",
        "ax.plot(b/g,a/d,\"bo\")\n",
        " \n",
        "ax.set_xlim(-1,70)\n",
        "ax.set_ylim(-1,70)\n",
        "my_xlim=ax.get_xlim()[1]\n",
        "my_ylim=ax.get_ylim()[1]\n",
        "dx=my_xlim/10\n",
        "dy=my_ylim/10\n",
        "[ax.arrow(0,6+i*dy,0,-dy,width=.3,head_width=1.5) for i in range(10)]\n",
        "[ax.arrow(.1+i*dx,0,dx,0,width=.3,head_width=1.5) for i in range(10)]\n",
        "\n",
        "ax.set_xlabel('X')\n",
        "ax.set_ylabel('Y')\n",
        "ax.grid()\n",
        "plt.show() "
      ],
      "execution_count": null,
      "outputs": [
        {
          "output_type": "display_data",
          "data": {
            "application/javascript": [
              "google.colab.output.setIframeHeight(0, true, {maxHeight: 5000})"
            ],
            "text/plain": [
              "<IPython.core.display.Javascript object>"
            ]
          },
          "metadata": {
            "tags": []
          }
        },
        {
          "output_type": "display_data",
          "data": {
            "application/javascript": [
              "google.colab.output.setIframeHeight(0, true, {maxHeight: 5000})"
            ],
            "text/plain": [
              "<IPython.core.display.Javascript object>"
            ]
          },
          "metadata": {
            "tags": []
          }
        },
        {
          "output_type": "display_data",
          "data": {
            "application/javascript": [
              "google.colab.output.setIframeHeight(0, true, {maxHeight: 5000})"
            ],
            "text/plain": [
              "<IPython.core.display.Javascript object>"
            ]
          },
          "metadata": {
            "tags": []
          }
        },
        {
          "output_type": "display_data",
          "data": {
            "application/javascript": [
              "google.colab.output.setIframeHeight(0, true, {maxHeight: 5000})"
            ],
            "text/plain": [
              "<IPython.core.display.Javascript object>"
            ]
          },
          "metadata": {
            "tags": []
          }
        },
        {
          "output_type": "display_data",
          "data": {
            "image/png": "[encoded data removed]",
            "text/plain": [
              "<Figure size 432x288 with 1 Axes>"
            ]
          },
          "metadata": {
            "tags": [],
            "needs_background": "light"
          }
        }
      ]
    },
    {
      "cell_type": "markdown",
      "metadata": {
        "id": "Tvr5x-G_kOWo"
      },
      "source": [
        "\\begin{cases}\n",
        "      \\frac{dX}{dt}=(\\alpha - \\delta Y)X\\\\\n",
        "      \\frac{dY}{dt}=-(\\beta + \\gamma X)Y\n",
        "    \\end{cases}  \n",
        "\n",
        "$\\frac{dX}{dt}>0$ if $Y<\\frac{\\alpha}{\\delta}$\n",
        "\n",
        "and $\\frac{dY}{dt}>0$ if $X<\\frac{\\beta}{\\gamma}$\n",
        "\n"
      ]
    },
    {
      "cell_type": "markdown",
      "metadata": {
        "id": "JAeML8m0tSvL"
      },
      "source": [
        "We now focus on the second stationary point $P_2=(\\alpha/\\delta , \\beta/\\gamma)$ and we evaluate the Jacobian \n",
        "\\begin{equation}\n",
        "J(\\beta /\\gamma,\\alpha /\\delta)=\n",
        "\\begin{bmatrix}\n",
        "  \\alpha-\\delta\\cdot \\frac{\\alpha}{\\delta}& \n",
        "    -\\delta \\cdot \\frac{\\beta}{\\gamma}\\\\[1ex] \n",
        "  \\gamma \\cdot \\frac{\\alpha}{\\delta}& -\\beta +\\gamma \\cdot\\frac{\\beta}{\\gamma}\n",
        "\\end{bmatrix}=\\begin{bmatrix}\n",
        "  0& -\\delta \\cdot \\frac{\\beta}{\\gamma}\n",
        "    \\\\[1ex] \n",
        "  \\gamma\\cdot \\frac{\\alpha}{\\delta}& 0 \n",
        "\\end{bmatrix}.\n",
        "\\end{equation}\n",
        "The eigenvalues are obtained by evaluating the determinant of the following matrix\n",
        "\\begin{equation}\n",
        "    M=\\begin{bmatrix}\n",
        "  -\\lambda& -\\delta \\cdot \\frac{\\beta}{\\gamma}\n",
        "    \\\\[1ex] \n",
        "  \\gamma\\cdot \\frac{\\alpha}{\\delta}& -\\lambda \n",
        "\\end{bmatrix},\n",
        "\\end{equation}\n",
        "which is given by \n",
        "\\begin{equation}\n",
        "    \\text{det}M = \\lambda^2 + \\gamma\\frac{\\alpha}{\\delta}\\cdot \\delta\\frac{\\beta}{\\gamma}=\\lambda^2 +\\alpha\\beta,\n",
        "\\end{equation}\n",
        "whose solutions are given by \n",
        "\\begin{equation}\n",
        "    \\lambda_1=+i\\sqrt{\\alpha\\beta}\\qquad \\text{and} \\qquad \\lambda_2=-i\\sqrt{\\alpha\\beta}.\n",
        "\\end{equation}\n",
        "The eigenvalues are complex and the real part is zero. We conclude that the point is a *center*."
      ]
    },
    {
      "cell_type": "code",
      "metadata": {
        "id": "5Ezvxs8VEoy5",
        "colab": {
          "base_uri": "https://localhost:8080/",
          "height": 287
        },
        "outputId": "bda995b1-b138-45b0-ab70-7cfd1a7f95d1"
      },
      "source": [
        "fig, ax = plt.subplots()\n",
        "ax.plot(0,0,\"ko\")\n",
        "ax.plot(b/g,a/d,\"bo\")\n",
        "\n",
        "ax.set_xlim(-1,70)\n",
        "ax.set_ylim(-1,70)\n",
        "my_xlim=ax.get_xlim()[1]\n",
        "my_ylim=ax.get_ylim()[1]\n",
        "dx=my_xlim/10\n",
        "dy=my_ylim/10\n",
        "[ax.arrow(0,6+i*dy,0,-dy,width=.3,head_width=1.5) for i in range(10)]\n",
        "[ax.arrow(.1+i*dx,0,dx,0,width=.3,head_width=1.5) for i in range(10)]\n",
        "\n",
        "plt.vlines(b/g,0,70,color='b',linestyle='dashed')\n",
        "plt.hlines(a/d,0,70,color='b',linestyle='dashed')\n",
        "plt.text(b/g,20,r'$\\frac{\\beta}{\\gamma}$',fontsize=20)\n",
        "plt.text(2,4+a/d,r'$\\frac{\\alpha}{\\delta}$',fontsize=20)\n",
        "ax.set_aspect('equal')\n",
        "plt.xlabel('$preys\\quad (X)$')\n",
        "plt.ylabel('$predators\\quad (Y)$');"
      ],
      "execution_count": null,
      "outputs": [
        {
          "output_type": "display_data",
          "data": {
            "application/javascript": [
              "google.colab.output.setIframeHeight(0, true, {maxHeight: 5000})"
            ],
            "text/plain": [
              "<IPython.core.display.Javascript object>"
            ]
          },
          "metadata": {
            "tags": []
          }
        },
        {
          "output_type": "display_data",
          "data": {
            "application/javascript": [
              "google.colab.output.setIframeHeight(0, true, {maxHeight: 5000})"
            ],
            "text/plain": [
              "<IPython.core.display.Javascript object>"
            ]
          },
          "metadata": {
            "tags": []
          }
        },
        {
          "output_type": "display_data",
          "data": {
            "application/javascript": [
              "google.colab.output.setIframeHeight(0, true, {maxHeight: 5000})"
            ],
            "text/plain": [
              "<IPython.core.display.Javascript object>"
            ]
          },
          "metadata": {
            "tags": []
          }
        },
        {
          "output_type": "display_data",
          "data": {
            "application/javascript": [
              "google.colab.output.setIframeHeight(0, true, {maxHeight: 5000})"
            ],
            "text/plain": [
              "<IPython.core.display.Javascript object>"
            ]
          },
          "metadata": {
            "tags": []
          }
        },
        {
          "output_type": "display_data",
          "data": {
            "image/png": "[encoded data removed]",
            "text/plain": [
              "<Figure size 432x288 with 1 Axes>"
            ]
          },
          "metadata": {
            "tags": [],
            "needs_background": "light"
          }
        }
      ]
    },
    {
      "cell_type": "markdown",
      "metadata": {
        "id": "CUo6eLukE2Ij"
      },
      "source": [
        "\\begin{cases}\n",
        "      \\frac{dX}{dt}=(\\alpha - \\delta Y)X\\\\\n",
        "      \\frac{dY}{dt}=-(\\beta - \\gamma X)Y\n",
        "    \\end{cases} \n",
        "\n",
        "$\\frac{dX}{dt}>0$  if $Y\\lt\\frac{\\alpha}{\\delta}$\n",
        "\n",
        "$\\frac{dY}{dt}>0$ if $X\\gt\\frac{\\beta}{\\gamma}$\n",
        "\n",
        "\n"
      ]
    },
    {
      "cell_type": "code",
      "metadata": {
        "colab": {
          "base_uri": "https://localhost:8080/",
          "height": 327
        },
        "id": "gc9qFBCTnZj1",
        "outputId": "96e16862-5271-42bf-8046-15d6edc5be69"
      },
      "source": [
        "circ=lambda theta,r,hx,hy: [hx+r*np.cos(theta),hy+r*np.sin(theta)]\n",
        "fig, ax = plt.subplots()\n",
        "ax.plot(0,0,\"ko\")\n",
        "ax.plot(b/g,a/d,\"bo\")\n",
        "print(b/g,a/d)\n",
        "ax.set_xlim(-1,70)\n",
        "ax.set_ylim(-1,70)\n",
        "my_xlim=ax.get_xlim()[1]\n",
        "my_ylim=ax.get_ylim()[1]\n",
        "dx=my_xlim/10\n",
        "dy=my_ylim/10\n",
        "[ax.arrow(0,6+i*dy,0,-dy,width=.3,head_width=1.5) for i in range(10)]\n",
        "[ax.arrow(.1+i*dx,0,dx,0,width=.3,head_width=1.5) for i in range(10)]\n",
        "\n",
        "plt.vlines(b/g,0,70,color='b',linestyle='dashed')\n",
        "plt.hlines(a/d,0,70,color='b',linestyle='dashed')\n",
        "plt.text(b/g,20,r'$\\frac{\\beta}{\\gamma}$',fontsize=20)\n",
        "plt.text(60,3+a/d,r'$\\frac{\\alpha}{\\delta}$',fontsize=20)\n",
        "plt.arrow(*circ(0.75*np.pi,15,b/g,a/d),0,-5,width=.3,head_width=1.5)\n",
        "plt.arrow(*circ(-0.75*np.pi,15,b/g,a/d),0,-5,width=.3,head_width=1.5)\n",
        "plt.arrow(*circ(0.25*np.pi,15,b/g,a/d),0,5,width=.3,head_width=1.5)\n",
        "plt.arrow(*circ(-0.25*np.pi,15,b/g,a/d),0,5,width=.3,head_width=1.5)\n",
        "#\n",
        "plt.arrow(*circ(0.75*np.pi,15,b/g,a/d),-5,0,width=.3,head_width=1.5)\n",
        "plt.arrow(*circ(-0.75*np.pi,15,b/g,a/d),5,0,width=.3,head_width=1.5)\n",
        "plt.arrow(*circ(0.25*np.pi,15,b/g,a/d),-5,0,width=.3,head_width=1.5)\n",
        "plt.arrow(*circ(-0.25*np.pi,15,b/g,a/d),5,0,width=.3,head_width=1.5)\n",
        "ax.set_aspect('equal')\n",
        "plt.xlabel('$preys\\quad (X)$')\n",
        "plt.ylabel('$predators\\quad (Y)$')"
      ],
      "execution_count": null,
      "outputs": [
        {
          "output_type": "display_data",
          "data": {
            "application/javascript": [
              "google.colab.output.setIframeHeight(0, true, {maxHeight: 5000})"
            ],
            "text/plain": [
              "<IPython.core.display.Javascript object>"
            ]
          },
          "metadata": {
            "tags": []
          }
        },
        {
          "output_type": "display_data",
          "data": {
            "application/javascript": [
              "google.colab.output.setIframeHeight(0, true, {maxHeight: 5000})"
            ],
            "text/plain": [
              "<IPython.core.display.Javascript object>"
            ]
          },
          "metadata": {
            "tags": []
          }
        },
        {
          "output_type": "display_data",
          "data": {
            "application/javascript": [
              "google.colab.output.setIframeHeight(0, true, {maxHeight: 5000})"
            ],
            "text/plain": [
              "<IPython.core.display.Javascript object>"
            ]
          },
          "metadata": {
            "tags": []
          }
        },
        {
          "output_type": "display_data",
          "data": {
            "application/javascript": [
              "google.colab.output.setIframeHeight(0, true, {maxHeight: 5000})"
            ],
            "text/plain": [
              "<IPython.core.display.Javascript object>"
            ]
          },
          "metadata": {
            "tags": []
          }
        },
        {
          "output_type": "stream",
          "text": [
            "20.0 33.333333333333336\n"
          ],
          "name": "stdout"
        },
        {
          "output_type": "execute_result",
          "data": {
            "text/plain": [
              "Text(0, 0.5, '$predators\\\\quad (Y)$')"
            ]
          },
          "metadata": {
            "tags": []
          },
          "execution_count": 126
        },
        {
          "output_type": "display_data",
          "data": {
            "image/png": "[encoded data removed]",
            "text/plain": [
              "<Figure size 432x288 with 1 Axes>"
            ]
          },
          "metadata": {
            "tags": [],
            "needs_background": "light"
          }
        }
      ]
    },
    {
      "cell_type": "code",
      "metadata": {
        "id": "3DePPc2Xi-N7",
        "colab": {
          "base_uri": "https://localhost:8080/",
          "height": 17
        },
        "outputId": "c2f81b90-71f2-4479-e504-a9635f386c24"
      },
      "source": [
        "N=np.array([50,1])\n",
        "T=np.linspace(0,16,1000)\n",
        "Nt=odeint(lotkaVolterra,N,T,args=(a,d,b,g))"
      ],
      "execution_count": null,
      "outputs": [
        {
          "output_type": "display_data",
          "data": {
            "application/javascript": [
              "google.colab.output.setIframeHeight(0, true, {maxHeight: 5000})"
            ],
            "text/plain": [
              "<IPython.core.display.Javascript object>"
            ]
          },
          "metadata": {
            "tags": []
          }
        },
        {
          "output_type": "display_data",
          "data": {
            "application/javascript": [
              "google.colab.output.setIframeHeight(0, true, {maxHeight: 5000})"
            ],
            "text/plain": [
              "<IPython.core.display.Javascript object>"
            ]
          },
          "metadata": {
            "tags": []
          }
        },
        {
          "output_type": "display_data",
          "data": {
            "application/javascript": [
              "google.colab.output.setIframeHeight(0, true, {maxHeight: 5000})"
            ],
            "text/plain": [
              "<IPython.core.display.Javascript object>"
            ]
          },
          "metadata": {
            "tags": []
          }
        },
        {
          "output_type": "display_data",
          "data": {
            "application/javascript": [
              "google.colab.output.setIframeHeight(0, true, {maxHeight: 5000})"
            ],
            "text/plain": [
              "<IPython.core.display.Javascript object>"
            ]
          },
          "metadata": {
            "tags": []
          }
        }
      ]
    },
    {
      "cell_type": "code",
      "metadata": {
        "id": "NfVDAr-xl8FX",
        "colab": {
          "base_uri": "https://localhost:8080/",
          "height": 303
        },
        "outputId": "a9adbb89-de74-4dde-ec11-b3d09de360e6"
      },
      "source": [
        "ax=plt.subplot()\n",
        "plt.plot(Nt[:,0],Nt[:,1])\n",
        "plt.plot(Nt[0,0],Nt[0,1],'ro',markerSize=10)\n",
        "plt.vlines(b/g,0,300,color='b',linestyle='dashed')\n",
        "plt.hlines(a/d,0,300,color='b',linestyle='dashed')\n",
        "ax.set_aspect('equal')\n",
        "plt.xlabel('$preys\\quad (X)$')\n",
        "plt.ylabel('$predators\\quad (Y)$')"
      ],
      "execution_count": null,
      "outputs": [
        {
          "output_type": "display_data",
          "data": {
            "application/javascript": [
              "google.colab.output.setIframeHeight(0, true, {maxHeight: 5000})"
            ],
            "text/plain": [
              "<IPython.core.display.Javascript object>"
            ]
          },
          "metadata": {
            "tags": []
          }
        },
        {
          "output_type": "display_data",
          "data": {
            "application/javascript": [
              "google.colab.output.setIframeHeight(0, true, {maxHeight: 5000})"
            ],
            "text/plain": [
              "<IPython.core.display.Javascript object>"
            ]
          },
          "metadata": {
            "tags": []
          }
        },
        {
          "output_type": "display_data",
          "data": {
            "application/javascript": [
              "google.colab.output.setIframeHeight(0, true, {maxHeight: 5000})"
            ],
            "text/plain": [
              "<IPython.core.display.Javascript object>"
            ]
          },
          "metadata": {
            "tags": []
          }
        },
        {
          "output_type": "display_data",
          "data": {
            "application/javascript": [
              "google.colab.output.setIframeHeight(0, true, {maxHeight: 5000})"
            ],
            "text/plain": [
              "<IPython.core.display.Javascript object>"
            ]
          },
          "metadata": {
            "tags": []
          }
        },
        {
          "output_type": "execute_result",
          "data": {
            "text/plain": [
              "Text(0, 0.5, '$predators\\\\quad (Y)$')"
            ]
          },
          "metadata": {
            "tags": []
          },
          "execution_count": 134
        },
        {
          "output_type": "display_data",
          "data": {
            "image/png": "[encoded data removed]",
            "text/plain": [
              "<Figure size 432x288 with 1 Axes>"
            ]
          },
          "metadata": {
            "tags": [],
            "needs_background": "light"
          }
        }
      ]
    },
    {
      "cell_type": "code",
      "metadata": {
        "id": "iZmSnx6xma2H",
        "colab": {
          "base_uri": "https://localhost:8080/",
          "height": 17
        },
        "outputId": "c552210c-9c4f-47f5-8ca6-08c4c6192e87"
      },
      "source": [
        "N_ini=np.array([[16,26.666667],[44,73.3333333],[72,120],[100,166.66666667],[140,233.33333333]])\n",
        "Nts=[]\n",
        "for No in N_ini:\n",
        "  Nt=odeint(lotkaVolterra,No,T,args=(a,d,b,g))\n",
        "  Nts.append(Nt)\n",
        "  \n",
        "  "
      ],
      "execution_count": null,
      "outputs": [
        {
          "output_type": "display_data",
          "data": {
            "application/javascript": [
              "google.colab.output.setIframeHeight(0, true, {maxHeight: 5000})"
            ],
            "text/plain": [
              "<IPython.core.display.Javascript object>"
            ]
          },
          "metadata": {
            "tags": []
          }
        },
        {
          "output_type": "display_data",
          "data": {
            "application/javascript": [
              "google.colab.output.setIframeHeight(0, true, {maxHeight: 5000})"
            ],
            "text/plain": [
              "<IPython.core.display.Javascript object>"
            ]
          },
          "metadata": {
            "tags": []
          }
        },
        {
          "output_type": "display_data",
          "data": {
            "application/javascript": [
              "google.colab.output.setIframeHeight(0, true, {maxHeight: 5000})"
            ],
            "text/plain": [
              "<IPython.core.display.Javascript object>"
            ]
          },
          "metadata": {
            "tags": []
          }
        },
        {
          "output_type": "display_data",
          "data": {
            "application/javascript": [
              "google.colab.output.setIframeHeight(0, true, {maxHeight: 5000})"
            ],
            "text/plain": [
              "<IPython.core.display.Javascript object>"
            ]
          },
          "metadata": {
            "tags": []
          }
        }
      ]
    },
    {
      "cell_type": "code",
      "metadata": {
        "id": "BUTmW6LuoPel",
        "colab": {
          "base_uri": "https://localhost:8080/",
          "height": 303
        },
        "outputId": "fd64a385-5596-42ed-c5ce-77eaa0b0fc79"
      },
      "source": [
        "fig, ax = plt.subplots()\n",
        "for Nt in Nts:\n",
        "  ax.plot(Nt[:,0],Nt[:,1])\n",
        "  ax.plot(Nt[0,0],Nt[0,1],'ro',markerSize=10)\n",
        "\n",
        "ax.vlines(b/g,0,340,color='b',linestyle='dashed')\n",
        "ax.hlines(a/d,0,340,color='b',linestyle='dashed')\n",
        "\n",
        "\n",
        "ax.set_aspect('equal')\n",
        "plt.xlabel('$preys\\quad (X)$')\n",
        "plt.ylabel('$predators\\quad (Y)$')"
      ],
      "execution_count": null,
      "outputs": [
        {
          "output_type": "display_data",
          "data": {
            "application/javascript": [
              "google.colab.output.setIframeHeight(0, true, {maxHeight: 5000})"
            ],
            "text/plain": [
              "<IPython.core.display.Javascript object>"
            ]
          },
          "metadata": {
            "tags": []
          }
        },
        {
          "output_type": "display_data",
          "data": {
            "application/javascript": [
              "google.colab.output.setIframeHeight(0, true, {maxHeight: 5000})"
            ],
            "text/plain": [
              "<IPython.core.display.Javascript object>"
            ]
          },
          "metadata": {
            "tags": []
          }
        },
        {
          "output_type": "display_data",
          "data": {
            "application/javascript": [
              "google.colab.output.setIframeHeight(0, true, {maxHeight: 5000})"
            ],
            "text/plain": [
              "<IPython.core.display.Javascript object>"
            ]
          },
          "metadata": {
            "tags": []
          }
        },
        {
          "output_type": "display_data",
          "data": {
            "application/javascript": [
              "google.colab.output.setIframeHeight(0, true, {maxHeight: 5000})"
            ],
            "text/plain": [
              "<IPython.core.display.Javascript object>"
            ]
          },
          "metadata": {
            "tags": []
          }
        },
        {
          "output_type": "execute_result",
          "data": {
            "text/plain": [
              "Text(0, 0.5, '$predators\\\\quad (Y)$')"
            ]
          },
          "metadata": {
            "tags": []
          },
          "execution_count": 136
        },
        {
          "output_type": "display_data",
          "data": {
            "image/png": "[encoded data removed]",
            "text/plain": [
              "<Figure size 432x288 with 1 Axes>"
            ]
          },
          "metadata": {
            "tags": [],
            "needs_background": "light"
          }
        }
      ]
    },
    {
      "cell_type": "code",
      "metadata": {
        "id": "ZFYij8W1mJ7Z",
        "colab": {
          "base_uri": "https://localhost:8080/",
          "height": 17
        },
        "outputId": "a028d05c-b911-4930-b632-71e807f88a5d"
      },
      "source": [
        "ymax=100\n",
        "xmax=100\n",
        "n_points=25\n",
        "x=np.linspace(0,xmax,n_points)\n",
        "y=np.linspace(0,ymax,n_points)\n",
        "X,Y=np.meshgrid(x,y)\n",
        "dX,dY=lotkaVolterra([X,Y],0,a,d,b,g)\n"
      ],
      "execution_count": null,
      "outputs": [
        {
          "output_type": "display_data",
          "data": {
            "application/javascript": [
              "google.colab.output.setIframeHeight(0, true, {maxHeight: 5000})"
            ],
            "text/plain": [
              "<IPython.core.display.Javascript object>"
            ]
          },
          "metadata": {
            "tags": []
          }
        },
        {
          "output_type": "display_data",
          "data": {
            "application/javascript": [
              "google.colab.output.setIframeHeight(0, true, {maxHeight: 5000})"
            ],
            "text/plain": [
              "<IPython.core.display.Javascript object>"
            ]
          },
          "metadata": {
            "tags": []
          }
        },
        {
          "output_type": "display_data",
          "data": {
            "application/javascript": [
              "google.colab.output.setIframeHeight(0, true, {maxHeight: 5000})"
            ],
            "text/plain": [
              "<IPython.core.display.Javascript object>"
            ]
          },
          "metadata": {
            "tags": []
          }
        },
        {
          "output_type": "display_data",
          "data": {
            "application/javascript": [
              "google.colab.output.setIframeHeight(0, true, {maxHeight: 5000})"
            ],
            "text/plain": [
              "<IPython.core.display.Javascript object>"
            ]
          },
          "metadata": {
            "tags": []
          }
        }
      ]
    },
    {
      "cell_type": "code",
      "metadata": {
        "id": "et3CbKKT4kzw",
        "colab": {
          "base_uri": "https://localhost:8080/",
          "height": 17
        },
        "outputId": "944b475a-1ee4-4abe-eb4c-4b9e12bda08a"
      },
      "source": [
        "hypotenusa =lambda x,y : np.sqrt(x**2+y**2)"
      ],
      "execution_count": null,
      "outputs": [
        {
          "output_type": "display_data",
          "data": {
            "application/javascript": [
              "google.colab.output.setIframeHeight(0, true, {maxHeight: 5000})"
            ],
            "text/plain": [
              "<IPython.core.display.Javascript object>"
            ]
          },
          "metadata": {
            "tags": []
          }
        },
        {
          "output_type": "display_data",
          "data": {
            "application/javascript": [
              "google.colab.output.setIframeHeight(0, true, {maxHeight: 5000})"
            ],
            "text/plain": [
              "<IPython.core.display.Javascript object>"
            ]
          },
          "metadata": {
            "tags": []
          }
        },
        {
          "output_type": "display_data",
          "data": {
            "application/javascript": [
              "google.colab.output.setIframeHeight(0, true, {maxHeight: 5000})"
            ],
            "text/plain": [
              "<IPython.core.display.Javascript object>"
            ]
          },
          "metadata": {
            "tags": []
          }
        },
        {
          "output_type": "display_data",
          "data": {
            "application/javascript": [
              "google.colab.output.setIframeHeight(0, true, {maxHeight: 5000})"
            ],
            "text/plain": [
              "<IPython.core.display.Javascript object>"
            ]
          },
          "metadata": {
            "tags": []
          }
        }
      ]
    },
    {
      "cell_type": "code",
      "metadata": {
        "id": "UU9E3X-k9TuK",
        "colab": {
          "base_uri": "https://localhost:8080/",
          "height": 283
        },
        "outputId": "b3907b52-8d53-4ad7-b886-b42c25ed5ede"
      },
      "source": [
        "h=hypotenusa(dX,dY)\n",
        "h[h==0]=1\n",
        "dX=dX/h\n",
        "dY=dY/h\n",
        "fig, ax = plt.subplots()\n",
        "Q = ax.quiver(X,Y,dX, dY, h, pivot='mid', cmap=plt.cm.jet)\n",
        "plt.vlines(g/b,0,100,color='b',linestyle='dashed')\n",
        "plt.hlines(a/d,0,100,color='b',linestyle='dashed')\n",
        "\n",
        "\n",
        "ax.set_aspect('equal')\n",
        "plt.xlabel('$preys\\quad (X)$');\n",
        "plt.ylabel('$predators\\quad (Y)$');\n"
      ],
      "execution_count": null,
      "outputs": [
        {
          "output_type": "display_data",
          "data": {
            "application/javascript": [
              "google.colab.output.setIframeHeight(0, true, {maxHeight: 5000})"
            ],
            "text/plain": [
              "<IPython.core.display.Javascript object>"
            ]
          },
          "metadata": {
            "tags": []
          }
        },
        {
          "output_type": "display_data",
          "data": {
            "application/javascript": [
              "google.colab.output.setIframeHeight(0, true, {maxHeight: 5000})"
            ],
            "text/plain": [
              "<IPython.core.display.Javascript object>"
            ]
          },
          "metadata": {
            "tags": []
          }
        },
        {
          "output_type": "display_data",
          "data": {
            "application/javascript": [
              "google.colab.output.setIframeHeight(0, true, {maxHeight: 5000})"
            ],
            "text/plain": [
              "<IPython.core.display.Javascript object>"
            ]
          },
          "metadata": {
            "tags": []
          }
        },
        {
          "output_type": "display_data",
          "data": {
            "application/javascript": [
              "google.colab.output.setIframeHeight(0, true, {maxHeight: 5000})"
            ],
            "text/plain": [
              "<IPython.core.display.Javascript object>"
            ]
          },
          "metadata": {
            "tags": []
          }
        },
        {
          "output_type": "display_data",
          "data": {
            "image/png": "[encoded data removed]",
            "text/plain": [
              "<Figure size 432x288 with 1 Axes>"
            ]
          },
          "metadata": {
            "tags": [],
            "needs_background": "light"
          }
        }
      ]
    },
    {
      "cell_type": "code",
      "metadata": {
        "id": "yytHNBZ2A2i-",
        "colab": {
          "base_uri": "https://localhost:8080/",
          "height": 283
        },
        "outputId": "a8b9d22a-fa7c-4beb-e88d-61be94c4a0a9"
      },
      "source": [
        "N_ini=np.column_stack((X.diagonal()[4:20:4],Y.diagonal()[4:20:4]))\n",
        "Nts=[]\n",
        "for No in N_ini:\n",
        "  Nt=odeint(lotkaVolterra,No,T,args=(a,d,b,g))\n",
        "  Nts.append(Nt)\n",
        "fig, ax = plt.subplots()\n",
        "for Nt in Nts:\n",
        "  ax.plot(Nt[:,0],Nt[:,1],color='r',alpha=0.8)\n",
        "\n",
        "Q = ax.quiver(X,Y,dX, dY, h, pivot='mid', cmap=plt.cm.jet)\n",
        "\n",
        "ax.set_aspect('equal')\n",
        "plt.xlabel('$preys\\quad (X)$')\n",
        "plt.ylabel('$predators\\quad (Y)$');"
      ],
      "execution_count": null,
      "outputs": [
        {
          "output_type": "display_data",
          "data": {
            "application/javascript": [
              "google.colab.output.setIframeHeight(0, true, {maxHeight: 5000})"
            ],
            "text/plain": [
              "<IPython.core.display.Javascript object>"
            ]
          },
          "metadata": {
            "tags": []
          }
        },
        {
          "output_type": "display_data",
          "data": {
            "application/javascript": [
              "google.colab.output.setIframeHeight(0, true, {maxHeight: 5000})"
            ],
            "text/plain": [
              "<IPython.core.display.Javascript object>"
            ]
          },
          "metadata": {
            "tags": []
          }
        },
        {
          "output_type": "display_data",
          "data": {
            "application/javascript": [
              "google.colab.output.setIframeHeight(0, true, {maxHeight: 5000})"
            ],
            "text/plain": [
              "<IPython.core.display.Javascript object>"
            ]
          },
          "metadata": {
            "tags": []
          }
        },
        {
          "output_type": "display_data",
          "data": {
            "application/javascript": [
              "google.colab.output.setIframeHeight(0, true, {maxHeight: 5000})"
            ],
            "text/plain": [
              "<IPython.core.display.Javascript object>"
            ]
          },
          "metadata": {
            "tags": []
          }
        },
        {
          "output_type": "display_data",
          "data": {
            "image/png": "[encoded data removed]",
            "text/plain": [
              "<Figure size 432x288 with 1 Axes>"
            ]
          },
          "metadata": {
            "tags": [],
            "needs_background": "light"
          }
        }
      ]
    },
    {
      "cell_type": "code",
      "metadata": {
        "id": "DfynmdYRjqwh",
        "colab": {
          "base_uri": "https://localhost:8080/",
          "height": 299
        },
        "outputId": "fb134387-5db5-423c-b214-dc79e4a6a51e"
      },
      "source": [
        "N=np.array([50,1])\n",
        "Nt=odeint(lotkaVolterra,N,T,args=(a,d,b,g))\n",
        "plt.plot(T,Nt[:,0])\n",
        "plt.plot(T,Nt[:,1])\n",
        "plt.xlabel('time')\n",
        "plt.ylabel('N')\n",
        "plt.legend(['Prey','Predator'])\n",
        "\n"
      ],
      "execution_count": null,
      "outputs": [
        {
          "output_type": "display_data",
          "data": {
            "application/javascript": [
              "google.colab.output.setIframeHeight(0, true, {maxHeight: 5000})"
            ],
            "text/plain": [
              "<IPython.core.display.Javascript object>"
            ]
          },
          "metadata": {
            "tags": []
          }
        },
        {
          "output_type": "display_data",
          "data": {
            "application/javascript": [
              "google.colab.output.setIframeHeight(0, true, {maxHeight: 5000})"
            ],
            "text/plain": [
              "<IPython.core.display.Javascript object>"
            ]
          },
          "metadata": {
            "tags": []
          }
        },
        {
          "output_type": "display_data",
          "data": {
            "application/javascript": [
              "google.colab.output.setIframeHeight(0, true, {maxHeight: 5000})"
            ],
            "text/plain": [
              "<IPython.core.display.Javascript object>"
            ]
          },
          "metadata": {
            "tags": []
          }
        },
        {
          "output_type": "display_data",
          "data": {
            "application/javascript": [
              "google.colab.output.setIframeHeight(0, true, {maxHeight: 5000})"
            ],
            "text/plain": [
              "<IPython.core.display.Javascript object>"
            ]
          },
          "metadata": {
            "tags": []
          }
        },
        {
          "output_type": "execute_result",
          "data": {
            "text/plain": [
              "<matplotlib.legend.Legend at 0x7f4d00a15e50>"
            ]
          },
          "metadata": {
            "tags": []
          },
          "execution_count": 141
        },
        {
          "output_type": "display_data",
          "data": {
            "image/png": "[encoded data removed]",
            "text/plain": [
              "<Figure size 432x288 with 1 Axes>"
            ]
          },
          "metadata": {
            "tags": [],
            "needs_background": "light"
          }
        }
      ]
    },
    {
      "cell_type": "markdown",
      "metadata": {
        "id": "h2O8hwEdARZz"
      },
      "source": [
        "**Species average number**\n",
        "\n",
        "\\begin{equation}\n",
        "    \\frac{dX}{dt}=(\\alpha -\\delta Y(t))X,\n",
        "\\end{equation}\n",
        "\n",
        "\\begin{equation}\n",
        "    \\frac{1}{X}\\frac{dX}{dt}=\\alpha -\\delta Y(t),\n",
        "\\end{equation}\n",
        "\n",
        "\\begin{equation}\n",
        "    \\int_{X(0)}^{X(T)}\\frac{dX}{X}=\\int_0^T(\\alpha -\\delta Y(t))dt.\n",
        "\\end{equation}\n",
        "The left-hand side can be immediately integrated and it gives\n",
        "\\begin{equation}\n",
        "    \\log X(T) - \\log X(0)=0,\n",
        "\\end{equation}\n",
        "which gives zero because the system is periodic and therefore the number of predator at time $t=0$ is equal to the number of predators at time $t=T$.\n",
        "The integral on the right-hand side gives \n",
        "\\begin{equation}\n",
        "    \\int_0^T(\\alpha -\\delta Y(t))dt=\\alpha T - \\delta\\int_0^TY(t)dt,\n",
        "\\end{equation}\n",
        "which cannot be evaluated exactly since we do not know the expression of $Y(t)$. By combining these two results we have\n",
        "\\begin{equation}\n",
        "    0=\\alpha T -\\delta\\int_0^TY(t)dt, \n",
        "\\end{equation}\n",
        "which can be written as \n",
        "\\begin{equation}\n",
        "    \\frac{1}{T}\\int_0^TY(t)dt=\\frac{\\alpha}{\\delta}.\n",
        "\\end{equation}\n",
        "The left-hand side is the average number of preys over a period of length $T$. If we consider the second equation, by doing the same calculations we obtain\n",
        "\\begin{equation}\n",
        "    \\frac{1}{T}\\int_0^TX(t)dt=\\frac{\\beta}{\\gamma}.\n",
        "\\end{equation}"
      ]
    },
    {
      "cell_type": "code",
      "metadata": {
        "colab": {
          "base_uri": "https://localhost:8080/",
          "height": 891,
          "referenced_widgets": [
            "d11d5ee384784f2db8f9e33b70e6d356",
            "98fca7ae86a445dfba906db34a2be2cd",
            "00b2f9c6576947489ed9bb8faf8da697",
            "052f7b48d97e4357a7892b8dafc57fbe",
            "cd9a880d252c4522ada7d72f050f3a0d",
            "e298fe65f7dc43f8bee68a08488cedea",
            "e6305d738db94a5c981dcfb41838ef35",
            "793f9a2b8ebf4af0981cac7da23bda05",
            "02500687aeea4f3a99ddd8a9aa2ce403",
            "e640b62673b04e259edac2c22851e63f",
            "6545386d6caf4c418c73f4ac8cad6f5b",
            "cbbbbbdbfded4c8d8654a2f06e15b15f",
            "025cec1924494fd98cc8da796d9e65a6",
            "e6d3516f079145ecb46c1fd5d4dd4587",
            "55b815087111473e942a8b42106b5b5d",
            "80c00f3eae1240298a365928f6ee6199",
            "16a7c477acac4e6699a4e7364e4c62af",
            "c167c294edff4245ba49edfef0c3decd",
            "13feaa3b4e8f49d58f55f561d9a228d4",
            "b7e534c25efb4180bbe574d4c0c33e59",
            "8e927e46d98540909fd022774ef0b98d",
            "41e45de1973249779626132031d46fb5",
            "236bb49d38904c1c9caff75e7ee7b095",
            "d16faf481ac14772a01f600f5cc0b0fc",
            "4e8093ea7d2b4f1da0fd6446ea44f440"
          ]
        },
        "id": "Qx10FHq13MC2",
        "outputId": "e161d2d3-364f-4b63-c3b1-64b75ff8f196"
      },
      "source": [
        "def update(N0X,N0Y,T,alpha,beta,delta,gamma):\n",
        "    N0=np.array([N0X,N0Y])\n",
        "    T=np.linspace(0,T,1000)\n",
        "    sol=odeint(foo,N0,T,args=(alpha,delta,beta,gamma))\n",
        "    fig,axes=plt.subplots(nrows=1,ncols=2,figsize=(25,10))\n",
        "    [axes[0].plot(T,sol[:,i]) for i in (0,1)]\n",
        "    axes[0].grid()\n",
        "    axes[0].set_title(r\"$\\overline{X}\\quad (prey) = %.3f\\quad\\overline{Y}\\quad(predator) = %.3f$\"%(beta/gamma,alpha/delta))\n",
        "    axes[0].set_xlabel(\"time\",fontsize=20)\n",
        "    axes[0].set_ylabel(\"species\",fontsize=20)\n",
        "    axes[0].legend(['prey','predator'],fontsize=20)\n",
        "    axes[1].plot(sol[:,0],sol[:,1])\n",
        "    axes[1].set_xlabel(\"predator\",fontsize=20)\n",
        "    axes[1].set_ylabel(\"prey\",fontsize=20)\n",
        "    axes[1].grid()\n",
        "    plt.show()\n",
        "timeSlider=FloatText(value=7.72,min=1,max=100,step=1,description=\"T\")\n",
        "N0XSlider=FloatSlider(value=1, min=0.,max=10,step=1,description=\"N0X\")\n",
        "N0YSlider=FloatSlider(value=1, min=0.,max=10,step=1,description=\"N0Y\")\n",
        "alphaSlider=FloatSlider(value=2.5, min=0.1,max=10,step=0.1,readout_format='.3f',description=r'<MATH>&alpha;</MATH>')\n",
        "betaSlider=FloatSlider(value=1, min=0.01,max=10,step=0.1,readout_format='.3f',description=r'<MATH>&beta;</MATH>')\n",
        "deltaSlider=FloatSlider(value=0.07, min=0.01,max=0.1,step=0.01,readout_format='.3f',description=r'<MATH>&delta;</MATH>')\n",
        "gammaSlider=FloatSlider(value=0.14, min=0.,max=0.3,step=0.01,description=r'<MATH>&gamma;</MATH>')\n",
        "\n",
        "foo=lotkaVolterra\n",
        "interactive_plot = interactive(update, N0X=N0XSlider,N0Y=N0YSlider, T=timeSlider,\n",
        "                               alpha=alphaSlider, beta=betaSlider,gamma=gammaSlider,delta=deltaSlider)\n",
        "output = interactive_plot.children[-1]\n",
        "output.layout.height = '650px'\n",
        "interactive_plot"
      ],
      "execution_count": null,
      "outputs": [
        {
          "output_type": "display_data",
          "data": {
            "application/javascript": [
              "google.colab.output.setIframeHeight(0, true, {maxHeight: 5000})"
            ],
            "text/plain": [
              "<IPython.core.display.Javascript object>"
            ]
          },
          "metadata": {
            "tags": []
          }
        },
        {
          "output_type": "display_data",
          "data": {
            "application/javascript": [
              "google.colab.output.setIframeHeight(0, true, {maxHeight: 5000})"
            ],
            "text/plain": [
              "<IPython.core.display.Javascript object>"
            ]
          },
          "metadata": {
            "tags": []
          }
        },
        {
          "output_type": "display_data",
          "data": {
            "application/javascript": [
              "google.colab.output.setIframeHeight(0, true, {maxHeight: 5000})"
            ],
            "text/plain": [
              "<IPython.core.display.Javascript object>"
            ]
          },
          "metadata": {
            "tags": []
          }
        },
        {
          "output_type": "display_data",
          "data": {
            "application/javascript": [
              "google.colab.output.setIframeHeight(0, true, {maxHeight: 5000})"
            ],
            "text/plain": [
              "<IPython.core.display.Javascript object>"
            ]
          },
          "metadata": {
            "tags": []
          }
        },
        {
          "output_type": "display_data",
          "data": {
            "application/vnd.jupyter.widget-view+json": {
              "model_id": "d11d5ee384784f2db8f9e33b70e6d356",
              "version_minor": 0,
              "version_major": 2
            },
            "text/plain": [
              "interactive(children=(FloatSlider(value=1.0, description='N0X', max=10.0, step=1.0), FloatSlider(value=1.0, de…"
            ]
          },
          "metadata": {
            "tags": []
          }
        }
      ]
    },
    {
      "cell_type": "markdown",
      "metadata": {
        "id": "PJk9CxiQGOsE"
      },
      "source": [
        "  \\begin{cases}\n",
        "      \\frac{dX}{dt}=(\\alpha-\\rho) X- \\delta XY\\\\\n",
        "      \\frac{dY}{dt}=-(\\beta+\\psi) Y + \\gamma XY\n",
        "    \\end{cases}"
      ]
    },
    {
      "cell_type": "code",
      "metadata": {
        "colab": {
          "base_uri": "https://localhost:8080/",
          "height": 16
        },
        "id": "vDktFW0uDlNO",
        "outputId": "1c900238-06d1-4d8f-f5a3-6e2dedba5bde"
      },
      "source": [
        "def lotkaVolterra2(N,t,a,d,b,g,r,p):\n",
        "\tdN0=(a-r)*N[0]-d*N[0]*N[1]\n",
        "\tdN1=g*N[0]*N[1]-(b+p)*N[1]\n",
        "\treturn np.array([dN0,dN1])"
      ],
      "execution_count": null,
      "outputs": [
        {
          "output_type": "display_data",
          "data": {
            "application/javascript": [
              "google.colab.output.setIframeHeight(0, true, {maxHeight: 5000})"
            ],
            "text/plain": [
              "<IPython.core.display.Javascript object>"
            ]
          },
          "metadata": {
            "tags": []
          }
        },
        {
          "output_type": "display_data",
          "data": {
            "application/javascript": [
              "google.colab.output.setIframeHeight(0, true, {maxHeight: 5000})"
            ],
            "text/plain": [
              "<IPython.core.display.Javascript object>"
            ]
          },
          "metadata": {
            "tags": []
          }
        },
        {
          "output_type": "display_data",
          "data": {
            "application/javascript": [
              "google.colab.output.setIframeHeight(0, true, {maxHeight: 5000})"
            ],
            "text/plain": [
              "<IPython.core.display.Javascript object>"
            ]
          },
          "metadata": {
            "tags": []
          }
        },
        {
          "output_type": "display_data",
          "data": {
            "application/javascript": [
              "google.colab.output.setIframeHeight(0, true, {maxHeight: 5000})"
            ],
            "text/plain": [
              "<IPython.core.display.Javascript object>"
            ]
          },
          "metadata": {
            "tags": []
          }
        }
      ]
    },
    {
      "cell_type": "code",
      "metadata": {
        "colab": {
          "base_uri": "https://localhost:8080/",
          "height": 954,
          "referenced_widgets": [
            "4ad05087be4b46a6bfe2fbed8a7394e8",
            "96cfa0415fab486fba2da835896a8253",
            "1328d2d8e03f4c9f8eef92bca4909808",
            "d94138860fd94949b847be27c7323c7e",
            "409021d1bfe54c1fbde18f2c8e00e8ef",
            "bb35951e3ed14250bc6a70d40cfcedc6",
            "951e3f7bba9e43b2a1503cbb568f3dde",
            "9da5e574617b434f9dda3d699fcf1308",
            "9900b060fe0a40099252dad6a2f4c4ba",
            "8f605fb02f034714a9f17c9e0321cc36",
            "aef9d495632b4d298764df423b4430de",
            "b3c5007446de405eb8e923b48868bfb1",
            "2a51a9e1606b4af4954224b4409fe61d",
            "55e61a2d8bc04f44be5e71b949efad67",
            "291977b2eff84ff3bb9fe1d8408b5158",
            "a6966eaaeb4145d188121e5c6dd0b86c",
            "ec839dbd94ea4a13bd2cd40f8a4bd4a4",
            "00a2bf808e5b470db99b4f8f62268a5f",
            "c46f65cf07dc44d3b9470689badb3518",
            "d1cad7760e6a4bf298c1c3c86abf4cc2",
            "c5c56f06687e408fa9a60b418473bbb2",
            "82c505e926764a5d8c347d45fcf434a5",
            "49626c7840cf43f5a2b2fb7eb18daa25",
            "8033261a3583432eb38be6f7b2ae3f97",
            "a831262c350541c2a5721206b61910ef",
            "3788d3b793374a75b44bc7e522477fe8",
            "330c7b3bde5a4007b63ed0606f9f9166",
            "160e6d23a42f47c7826f9523222feb60",
            "27a7c486a167431b827a820f65fa252f",
            "33905f4501b641b896b09bbc6e8b9da3",
            "0aeb926d1fcf4b098c7481c01c879db3"
          ]
        },
        "id": "Xq_QIfs2-90t",
        "outputId": "f5a7872d-aa91-45f8-b6b8-049c718dc26a"
      },
      "source": [
        "def update2(N0X,N0Y,T,alpha,beta,delta,gamma,rho,psi):\n",
        "    N0=np.array([N0X,N0Y])\n",
        "    T=np.linspace(0,T,1000)\n",
        "    sol=odeint(foo,N0,T,args=(alpha,delta,beta,gamma,rho,psi))\n",
        "    fig,axes=plt.subplots(nrows=1,ncols=2,figsize=(25,10))\n",
        "    [axes[0].plot(T,sol[:,i]) for i in (0,1)]\n",
        "    axes[0].grid()\n",
        "    axes[0].set_title(r\"$\\overline{X}\\quad (prey) = %.3f\\quad\\overline{Y}\\quad(predator) = %.3f$\"%((beta+psi)/gamma,(alpha-rho)/delta))\n",
        "    axes[0].set_xlabel(\"time\",fontsize=20)\n",
        "    axes[0].set_ylabel(\"species\",fontsize=20)\n",
        "    axes[0].legend(['prey','predator'],fontsize=20)\n",
        "    axes[1].plot(sol[:,0],sol[:,1])\n",
        "    axes[1].set_xlabel(\"predator\",fontsize=20)\n",
        "    axes[1].set_ylabel(\"prey\",fontsize=20)\n",
        "    axes[1].grid()\n",
        "    plt.show()\n",
        "timeSlider=FloatText(value=7.72,min=1,max=100,step=1,description=\"T\")\n",
        "N0XSlider=FloatSlider(value=1, min=0.,max=10,step=1,description=\"N0X\")\n",
        "N0YSlider=FloatSlider(value=1, min=0.,max=10,step=1,description=\"N0Y\")\n",
        "alphaSlider=FloatSlider(value=2.5, min=0.1,max=10,step=0.1,readout_format='.3f',description=r'<MATH>&alpha;</MATH>')\n",
        "betaSlider=FloatSlider(value=1, min=0.01,max=10,step=0.1,readout_format='.3f',description=r'<MATH>&beta;</MATH>')\n",
        "deltaSlider=FloatSlider(value=0.07, min=0.01,max=0.1,step=0.01,readout_format='.3f',description=r'<MATH>&delta;</MATH>')\n",
        "gammaSlider=FloatSlider(value=0.14, min=0.,max=0.3,step=0.01,description=r'<MATH>&gamma;</MATH>')\n",
        "rhoSlider=FloatSlider(value=0., min=0.,max=10,step=0.01,description=r'<MATH>&rho;</MATH>')\n",
        "psiSlider=FloatSlider(value=0., min=0.,max=10,step=0.01,description=r'<MATH>&psi;</MATH>')\n",
        "foo=lotkaVolterra2\n",
        "interactive_plot = interactive(update2, N0X=N0XSlider,N0Y=N0YSlider, T=timeSlider,\n",
        "                               alpha=alphaSlider, beta=betaSlider,gamma=gammaSlider,delta=deltaSlider,rho=rhoSlider,psi=psiSlider)\n",
        "output = interactive_plot.children[-1]\n",
        "output.layout.height = '650px'\n",
        "interactive_plot"
      ],
      "execution_count": null,
      "outputs": [
        {
          "output_type": "display_data",
          "data": {
            "application/javascript": [
              "google.colab.output.setIframeHeight(0, true, {maxHeight: 5000})"
            ],
            "text/plain": [
              "<IPython.core.display.Javascript object>"
            ]
          },
          "metadata": {
            "tags": []
          }
        },
        {
          "output_type": "display_data",
          "data": {
            "application/javascript": [
              "google.colab.output.setIframeHeight(0, true, {maxHeight: 5000})"
            ],
            "text/plain": [
              "<IPython.core.display.Javascript object>"
            ]
          },
          "metadata": {
            "tags": []
          }
        },
        {
          "output_type": "display_data",
          "data": {
            "application/javascript": [
              "google.colab.output.setIframeHeight(0, true, {maxHeight: 5000})"
            ],
            "text/plain": [
              "<IPython.core.display.Javascript object>"
            ]
          },
          "metadata": {
            "tags": []
          }
        },
        {
          "output_type": "display_data",
          "data": {
            "application/javascript": [
              "google.colab.output.setIframeHeight(0, true, {maxHeight: 5000})"
            ],
            "text/plain": [
              "<IPython.core.display.Javascript object>"
            ]
          },
          "metadata": {
            "tags": []
          }
        },
        {
          "output_type": "display_data",
          "data": {
            "application/vnd.jupyter.widget-view+json": {
              "model_id": "4ad05087be4b46a6bfe2fbed8a7394e8",
              "version_minor": 0,
              "version_major": 2
            },
            "text/plain": [
              "interactive(children=(FloatSlider(value=1.0, description='N0X', max=10.0, step=1.0), FloatSlider(value=1.0, de…"
            ]
          },
          "metadata": {
            "tags": []
          }
        }
      ]
    },
    {
      "cell_type": "markdown",
      "metadata": {
        "id": "kIG5LPV11wUr"
      },
      "source": [
        "# Predator Prey with logistic growth"
      ]
    },
    {
      "cell_type": "markdown",
      "metadata": {
        "id": "3zVOUQc1jqpH"
      },
      "source": [
        "$\n",
        "\\frac{dX}{dt}=\\alpha X(1-\\frac{X}{\\omega})-\\beta XY\\\\\n",
        "$\n",
        "\n",
        "$\n",
        "\\frac{dY}{dt}=\\gamma XY - \\delta Y\\\\\n",
        "$"
      ]
    },
    {
      "cell_type": "code",
      "metadata": {
        "id": "IX8CAHmxkr3w",
        "colab": {
          "base_uri": "https://localhost:8080/",
          "height": 16
        },
        "outputId": "8499c6a2-4e32-4013-b79b-a1776f59d611"
      },
      "source": [
        "def lotkaVolterraMod(N,t,a,w,b,d,g):\n",
        "\tdN0=a*N[0]*(1-N[0]/w)-b*N[0]*N[1]\n",
        "\tdN1=g*N[0]*N[1]-d*N[1]\n",
        "\treturn np.array([dN0,dN1])\n"
      ],
      "execution_count": null,
      "outputs": [
        {
          "output_type": "display_data",
          "data": {
            "application/javascript": [
              "google.colab.output.setIframeHeight(0, true, {maxHeight: 5000})"
            ],
            "text/plain": [
              "<IPython.core.display.Javascript object>"
            ]
          },
          "metadata": {
            "tags": []
          }
        },
        {
          "output_type": "display_data",
          "data": {
            "application/javascript": [
              "google.colab.output.setIframeHeight(0, true, {maxHeight: 5000})"
            ],
            "text/plain": [
              "<IPython.core.display.Javascript object>"
            ]
          },
          "metadata": {
            "tags": []
          }
        },
        {
          "output_type": "display_data",
          "data": {
            "application/javascript": [
              "google.colab.output.setIframeHeight(0, true, {maxHeight: 5000})"
            ],
            "text/plain": [
              "<IPython.core.display.Javascript object>"
            ]
          },
          "metadata": {
            "tags": []
          }
        },
        {
          "output_type": "display_data",
          "data": {
            "application/javascript": [
              "google.colab.output.setIframeHeight(0, true, {maxHeight: 5000})"
            ],
            "text/plain": [
              "<IPython.core.display.Javascript object>"
            ]
          },
          "metadata": {
            "tags": []
          }
        }
      ]
    },
    {
      "cell_type": "code",
      "metadata": {
        "id": "v27DKY74kDWU",
        "colab": {
          "base_uri": "https://localhost:8080/",
          "height": 35
        },
        "outputId": "e9a23e86-3910-40b9-fff0-0a149ba579a2"
      },
      "source": [
        "a=2\n",
        "w=4\n",
        "d=1\n",
        "b=2\n",
        "g=1\n",
        "No=np.array([3,1])\n",
        "T=np.linspace(1,100,10000)\n",
        "print(d<g*w,a*(g*w-d)/(b*g*w),d/g)\n"
      ],
      "execution_count": null,
      "outputs": [
        {
          "output_type": "display_data",
          "data": {
            "application/javascript": [
              "google.colab.output.setIframeHeight(0, true, {maxHeight: 5000})"
            ],
            "text/plain": [
              "<IPython.core.display.Javascript object>"
            ]
          },
          "metadata": {
            "tags": []
          }
        },
        {
          "output_type": "display_data",
          "data": {
            "application/javascript": [
              "google.colab.output.setIframeHeight(0, true, {maxHeight: 5000})"
            ],
            "text/plain": [
              "<IPython.core.display.Javascript object>"
            ]
          },
          "metadata": {
            "tags": []
          }
        },
        {
          "output_type": "display_data",
          "data": {
            "application/javascript": [
              "google.colab.output.setIframeHeight(0, true, {maxHeight: 5000})"
            ],
            "text/plain": [
              "<IPython.core.display.Javascript object>"
            ]
          },
          "metadata": {
            "tags": []
          }
        },
        {
          "output_type": "display_data",
          "data": {
            "application/javascript": [
              "google.colab.output.setIframeHeight(0, true, {maxHeight: 5000})"
            ],
            "text/plain": [
              "<IPython.core.display.Javascript object>"
            ]
          },
          "metadata": {
            "tags": []
          }
        },
        {
          "output_type": "stream",
          "text": [
            "True 0.75 1.0\n"
          ],
          "name": "stdout"
        }
      ]
    },
    {
      "cell_type": "code",
      "metadata": {
        "id": "pHhx2hPDm0O_",
        "colab": {
          "base_uri": "https://localhost:8080/",
          "height": 16
        },
        "outputId": "aa1a65a1-e3b8-4691-e76b-631e6da5e670"
      },
      "source": [
        "Nt=odeint(lotkaVolterraMod,No,T,args=(a,w,b,d,g))\n",
        "Nt2=odeint(lotkaVolterraMod,No,T,args=(a-0.5,w,b,d,g))"
      ],
      "execution_count": null,
      "outputs": [
        {
          "output_type": "display_data",
          "data": {
            "application/javascript": [
              "google.colab.output.setIframeHeight(0, true, {maxHeight: 5000})"
            ],
            "text/plain": [
              "<IPython.core.display.Javascript object>"
            ]
          },
          "metadata": {
            "tags": []
          }
        },
        {
          "output_type": "display_data",
          "data": {
            "application/javascript": [
              "google.colab.output.setIframeHeight(0, true, {maxHeight: 5000})"
            ],
            "text/plain": [
              "<IPython.core.display.Javascript object>"
            ]
          },
          "metadata": {
            "tags": []
          }
        },
        {
          "output_type": "display_data",
          "data": {
            "application/javascript": [
              "google.colab.output.setIframeHeight(0, true, {maxHeight: 5000})"
            ],
            "text/plain": [
              "<IPython.core.display.Javascript object>"
            ]
          },
          "metadata": {
            "tags": []
          }
        },
        {
          "output_type": "display_data",
          "data": {
            "application/javascript": [
              "google.colab.output.setIframeHeight(0, true, {maxHeight: 5000})"
            ],
            "text/plain": [
              "<IPython.core.display.Javascript object>"
            ]
          },
          "metadata": {
            "tags": []
          }
        }
      ]
    },
    {
      "cell_type": "code",
      "metadata": {
        "id": "KYDm98B_lJyM",
        "colab": {
          "base_uri": "https://localhost:8080/",
          "height": 282
        },
        "outputId": "2f85ebdc-afe3-4657-80e5-575f48ae6308"
      },
      "source": [
        "fig, ax = plt.subplots()\n",
        "ax.plot(Nt[:,0],Nt[:,1],color='r',alpha=0.8)\n",
        "#ax.plot(Nt2[:,0],Nt2[:,1],color='b',alpha=0.8)\n",
        "X=np.linspace(np.min(Nt[:,0]),np.max(Nt[:,0]))\n",
        "plt.plot(X,a*(w - X)/(b*w))\n",
        "plt.vlines(d/g,0,np.max(Nt[:,1]))\n",
        "ax.set_xlabel('preys');\n",
        "ax.set_ylabel('predators');\n",
        "ax.grid()\n"
      ],
      "execution_count": null,
      "outputs": [
        {
          "output_type": "display_data",
          "data": {
            "application/javascript": [
              "google.colab.output.setIframeHeight(0, true, {maxHeight: 5000})"
            ],
            "text/plain": [
              "<IPython.core.display.Javascript object>"
            ]
          },
          "metadata": {
            "tags": []
          }
        },
        {
          "output_type": "display_data",
          "data": {
            "application/javascript": [
              "google.colab.output.setIframeHeight(0, true, {maxHeight: 5000})"
            ],
            "text/plain": [
              "<IPython.core.display.Javascript object>"
            ]
          },
          "metadata": {
            "tags": []
          }
        },
        {
          "output_type": "display_data",
          "data": {
            "application/javascript": [
              "google.colab.output.setIframeHeight(0, true, {maxHeight: 5000})"
            ],
            "text/plain": [
              "<IPython.core.display.Javascript object>"
            ]
          },
          "metadata": {
            "tags": []
          }
        },
        {
          "output_type": "display_data",
          "data": {
            "application/javascript": [
              "google.colab.output.setIframeHeight(0, true, {maxHeight: 5000})"
            ],
            "text/plain": [
              "<IPython.core.display.Javascript object>"
            ]
          },
          "metadata": {
            "tags": []
          }
        },
        {
          "output_type": "display_data",
          "data": {
            "image/png": "[encoded data removed]",
            "text/plain": [
              "<Figure size 432x288 with 1 Axes>"
            ]
          },
          "metadata": {
            "tags": [],
            "needs_background": "light"
          }
        }
      ]
    },
    {
      "cell_type": "code",
      "metadata": {
        "id": "1dEn41d3m2ia",
        "colab": {
          "base_uri": "https://localhost:8080/",
          "height": 297
        },
        "outputId": "5c8596ac-4ea2-4ef5-9e2e-a604ea6df236"
      },
      "source": [
        "print(Nt[-1])\n",
        "fig, ax = plt.subplots()\n",
        "ax.plot(T,Nt[:,0],color='r')\n",
        "ax.plot(T,Nt[:,1],color='k')\n",
        "ax.set_xlabel('time');\n",
        "ax.set_ylabel('N');\n",
        "ax.grid()"
      ],
      "execution_count": null,
      "outputs": [
        {
          "output_type": "display_data",
          "data": {
            "application/javascript": [
              "google.colab.output.setIframeHeight(0, true, {maxHeight: 5000})"
            ],
            "text/plain": [
              "<IPython.core.display.Javascript object>"
            ]
          },
          "metadata": {
            "tags": []
          }
        },
        {
          "output_type": "display_data",
          "data": {
            "application/javascript": [
              "google.colab.output.setIframeHeight(0, true, {maxHeight: 5000})"
            ],
            "text/plain": [
              "<IPython.core.display.Javascript object>"
            ]
          },
          "metadata": {
            "tags": []
          }
        },
        {
          "output_type": "display_data",
          "data": {
            "application/javascript": [
              "google.colab.output.setIframeHeight(0, true, {maxHeight: 5000})"
            ],
            "text/plain": [
              "<IPython.core.display.Javascript object>"
            ]
          },
          "metadata": {
            "tags": []
          }
        },
        {
          "output_type": "display_data",
          "data": {
            "application/javascript": [
              "google.colab.output.setIframeHeight(0, true, {maxHeight: 5000})"
            ],
            "text/plain": [
              "<IPython.core.display.Javascript object>"
            ]
          },
          "metadata": {
            "tags": []
          }
        },
        {
          "output_type": "stream",
          "text": [
            "[1.   0.75]\n"
          ],
          "name": "stdout"
        },
        {
          "output_type": "display_data",
          "data": {
            "image/png": "[encoded data removed]",
            "text/plain": [
              "<Figure size 432x288 with 1 Axes>"
            ]
          },
          "metadata": {
            "tags": [],
            "needs_background": "light"
          }
        }
      ]
    },
    {
      "cell_type": "code",
      "metadata": {
        "id": "8D5hzjVvnvUj",
        "colab": {
          "base_uri": "https://localhost:8080/",
          "height": 16
        },
        "outputId": "4ff99963-d215-4938-a847-c299cae0fdc0"
      },
      "source": [
        "ymax=6\n",
        "xmax=3\n",
        "n_points=25\n",
        "x=np.linspace(0,xmax,n_points)\n",
        "y=np.linspace(0,ymax,n_points)\n",
        "X,Y=np.meshgrid(x,y)\n",
        "dX,dY=lotkaVolterraMod([X,Y],0,a,w,d,b,g)\n"
      ],
      "execution_count": null,
      "outputs": [
        {
          "output_type": "display_data",
          "data": {
            "application/javascript": [
              "google.colab.output.setIframeHeight(0, true, {maxHeight: 5000})"
            ],
            "text/plain": [
              "<IPython.core.display.Javascript object>"
            ]
          },
          "metadata": {
            "tags": []
          }
        },
        {
          "output_type": "display_data",
          "data": {
            "application/javascript": [
              "google.colab.output.setIframeHeight(0, true, {maxHeight: 5000})"
            ],
            "text/plain": [
              "<IPython.core.display.Javascript object>"
            ]
          },
          "metadata": {
            "tags": []
          }
        },
        {
          "output_type": "display_data",
          "data": {
            "application/javascript": [
              "google.colab.output.setIframeHeight(0, true, {maxHeight: 5000})"
            ],
            "text/plain": [
              "<IPython.core.display.Javascript object>"
            ]
          },
          "metadata": {
            "tags": []
          }
        },
        {
          "output_type": "display_data",
          "data": {
            "application/javascript": [
              "google.colab.output.setIframeHeight(0, true, {maxHeight: 5000})"
            ],
            "text/plain": [
              "<IPython.core.display.Javascript object>"
            ]
          },
          "metadata": {
            "tags": []
          }
        }
      ]
    },
    {
      "cell_type": "code",
      "metadata": {
        "id": "PSE39jUwnh_a",
        "colab": {
          "base_uri": "https://localhost:8080/",
          "height": 278
        },
        "outputId": "1786180e-3bbc-440d-fc32-fd2343d4f393"
      },
      "source": [
        "\n",
        "h=hypotenusa(dX,dY)\n",
        "h[h==0]=1\n",
        "dX=dX/h\n",
        "dY=dY/h\n",
        "fig, ax = plt.subplots()\n",
        "Q = ax.quiver(X,Y,dX, dY, h, pivot='mid', cmap=plt.cm.jet)\n",
        "ax.set_xlabel('preys');\n",
        "ax.set_ylabel('predators');"
      ],
      "execution_count": null,
      "outputs": [
        {
          "output_type": "display_data",
          "data": {
            "application/javascript": [
              "google.colab.output.setIframeHeight(0, true, {maxHeight: 5000})"
            ],
            "text/plain": [
              "<IPython.core.display.Javascript object>"
            ]
          },
          "metadata": {
            "tags": []
          }
        },
        {
          "output_type": "display_data",
          "data": {
            "application/javascript": [
              "google.colab.output.setIframeHeight(0, true, {maxHeight: 5000})"
            ],
            "text/plain": [
              "<IPython.core.display.Javascript object>"
            ]
          },
          "metadata": {
            "tags": []
          }
        },
        {
          "output_type": "display_data",
          "data": {
            "application/javascript": [
              "google.colab.output.setIframeHeight(0, true, {maxHeight: 5000})"
            ],
            "text/plain": [
              "<IPython.core.display.Javascript object>"
            ]
          },
          "metadata": {
            "tags": []
          }
        },
        {
          "output_type": "display_data",
          "data": {
            "application/javascript": [
              "google.colab.output.setIframeHeight(0, true, {maxHeight: 5000})"
            ],
            "text/plain": [
              "<IPython.core.display.Javascript object>"
            ]
          },
          "metadata": {
            "tags": []
          }
        },
        {
          "output_type": "display_data",
          "data": {
            "image/png": "[encoded data removed]",
            "text/plain": [
              "<Figure size 432x288 with 1 Axes>"
            ]
          },
          "metadata": {
            "tags": [],
            "needs_background": "light"
          }
        }
      ]
    },
    {
      "cell_type": "code",
      "metadata": {
        "id": "sTY5y-Saoe9i",
        "colab": {
          "base_uri": "https://localhost:8080/",
          "height": 16
        },
        "outputId": "1428d524-593a-46fb-ed2d-46e7502f962b"
      },
      "source": [
        "Nts=[]\n",
        "N_ini=np.array([[3,1],[3,2],[3,3],[3,4]])\n",
        "for No in N_ini:\n",
        "  Nt=odeint(lotkaVolterraMod,No,T,args=(a,w,d,b,g))\n",
        "  Nts.append(Nt)"
      ],
      "execution_count": null,
      "outputs": [
        {
          "output_type": "display_data",
          "data": {
            "application/javascript": [
              "google.colab.output.setIframeHeight(0, true, {maxHeight: 5000})"
            ],
            "text/plain": [
              "<IPython.core.display.Javascript object>"
            ]
          },
          "metadata": {
            "tags": []
          }
        },
        {
          "output_type": "display_data",
          "data": {
            "application/javascript": [
              "google.colab.output.setIframeHeight(0, true, {maxHeight: 5000})"
            ],
            "text/plain": [
              "<IPython.core.display.Javascript object>"
            ]
          },
          "metadata": {
            "tags": []
          }
        },
        {
          "output_type": "display_data",
          "data": {
            "application/javascript": [
              "google.colab.output.setIframeHeight(0, true, {maxHeight: 5000})"
            ],
            "text/plain": [
              "<IPython.core.display.Javascript object>"
            ]
          },
          "metadata": {
            "tags": []
          }
        },
        {
          "output_type": "display_data",
          "data": {
            "application/javascript": [
              "google.colab.output.setIframeHeight(0, true, {maxHeight: 5000})"
            ],
            "text/plain": [
              "<IPython.core.display.Javascript object>"
            ]
          },
          "metadata": {
            "tags": []
          }
        }
      ]
    },
    {
      "cell_type": "code",
      "metadata": {
        "id": "S8O1AQMVpDY0",
        "colab": {
          "base_uri": "https://localhost:8080/",
          "height": 278
        },
        "outputId": "17b7f21b-d0be-4916-baca-f9e8b9c45545"
      },
      "source": [
        "fig, ax = plt.subplots()\n",
        "for Nt in Nts:\n",
        "  ax.plot(Nt[:,0],Nt[:,1],color='r',alpha=0.8)\n",
        "\n",
        "Q = ax.quiver(X,Y,dX, dY, h, pivot='mid', cmap=plt.cm.jet)\n",
        "ax.set_xlabel('preys');\n",
        "ax.set_ylabel('predators');"
      ],
      "execution_count": null,
      "outputs": [
        {
          "output_type": "display_data",
          "data": {
            "application/javascript": [
              "google.colab.output.setIframeHeight(0, true, {maxHeight: 5000})"
            ],
            "text/plain": [
              "<IPython.core.display.Javascript object>"
            ]
          },
          "metadata": {
            "tags": []
          }
        },
        {
          "output_type": "display_data",
          "data": {
            "application/javascript": [
              "google.colab.output.setIframeHeight(0, true, {maxHeight: 5000})"
            ],
            "text/plain": [
              "<IPython.core.display.Javascript object>"
            ]
          },
          "metadata": {
            "tags": []
          }
        },
        {
          "output_type": "display_data",
          "data": {
            "application/javascript": [
              "google.colab.output.setIframeHeight(0, true, {maxHeight: 5000})"
            ],
            "text/plain": [
              "<IPython.core.display.Javascript object>"
            ]
          },
          "metadata": {
            "tags": []
          }
        },
        {
          "output_type": "display_data",
          "data": {
            "application/javascript": [
              "google.colab.output.setIframeHeight(0, true, {maxHeight: 5000})"
            ],
            "text/plain": [
              "<IPython.core.display.Javascript object>"
            ]
          },
          "metadata": {
            "tags": []
          }
        },
        {
          "output_type": "display_data",
          "data": {
            "image/png": "[encoded data removed]",
            "text/plain": [
              "<Figure size 432x288 with 1 Axes>"
            ]
          },
          "metadata": {
            "tags": [],
            "needs_background": "light"
          }
        }
      ]
    },
    {
      "cell_type": "code",
      "metadata": {
        "colab": {
          "base_uri": "https://localhost:8080/",
          "height": 35
        },
        "id": "CMyqJ5ijiniI",
        "outputId": "0963707c-1551-4bd7-9069-041f95bddc48"
      },
      "source": [
        "a=2\n",
        "w=4\n",
        "d=1\n",
        "b=2\n",
        "g=1\n",
        "No=np.array([3,1])\n",
        "T=np.linspace(1,100,10000)\n",
        "print(d<g*w,a*(g*w-d)/(b*g*w),d/g)\n"
      ],
      "execution_count": null,
      "outputs": [
        {
          "output_type": "display_data",
          "data": {
            "application/javascript": [
              "google.colab.output.setIframeHeight(0, true, {maxHeight: 5000})"
            ],
            "text/plain": [
              "<IPython.core.display.Javascript object>"
            ]
          },
          "metadata": {
            "tags": []
          }
        },
        {
          "output_type": "display_data",
          "data": {
            "application/javascript": [
              "google.colab.output.setIframeHeight(0, true, {maxHeight: 5000})"
            ],
            "text/plain": [
              "<IPython.core.display.Javascript object>"
            ]
          },
          "metadata": {
            "tags": []
          }
        },
        {
          "output_type": "display_data",
          "data": {
            "application/javascript": [
              "google.colab.output.setIframeHeight(0, true, {maxHeight: 5000})"
            ],
            "text/plain": [
              "<IPython.core.display.Javascript object>"
            ]
          },
          "metadata": {
            "tags": []
          }
        },
        {
          "output_type": "display_data",
          "data": {
            "application/javascript": [
              "google.colab.output.setIframeHeight(0, true, {maxHeight: 5000})"
            ],
            "text/plain": [
              "<IPython.core.display.Javascript object>"
            ]
          },
          "metadata": {
            "tags": []
          }
        },
        {
          "output_type": "stream",
          "text": [
            "True 0.75 1.0\n"
          ],
          "name": "stdout"
        }
      ]
    },
    {
      "cell_type": "code",
      "metadata": {
        "colab": {
          "base_uri": "https://localhost:8080/",
          "height": 1502,
          "referenced_widgets": [
            "705d029d210347c7afb20a7f9b65ddef",
            "77a9e843c79e4632922ee115ecf6f67d",
            "97a56f505c64489da4c69b4d400df5de",
            "4fb21a987e524123841515d267bc1cd3",
            "c151e4b9a6a54380b162eff517a14f5b",
            "bc3a2a54fe41439993711b1cddb80c64",
            "8fce8fa3d7694af6b7d96fd4614924dc",
            "927136eca00146d7811f7368435067af",
            "81743402be174e0596a2123ed0d4f29d",
            "697b59672116406f9a7f9b6784d364db",
            "48399771132b4a06b1077cc83940ec4d",
            "ee135d5843804933bb5bee9c4a2f65c7",
            "6d3f218208d941c690353a6721206345",
            "b6a214d0cc4e4de38243472659a6dce9",
            "2b3f5df4bd234579927c36fc0ffbf3f0",
            "62b3b114869946dd8b662724e1372093",
            "6a905490fd894b5d8a8280546d47e9a5",
            "d7822c77e91340ebb03b81aed62864fe",
            "5a0c5c6ec7aa485d9d5fc9dd38d04bc0",
            "9eb11f5c7a0a41db83c35b5ce9c627c9",
            "47a7b97f69c64b838d85f7a9c0e2049d",
            "859d41ce9605464197c75e11a3459e80",
            "f3f67719f7e0491b8cdb90f57ba2f3d0",
            "e6b3ddd3c956455189ffa817ecdc31f7",
            "6bf664fcbd4e47b3b5948a54281d2db3",
            "8d172e0d07124486a56680a0c0cd3ec1",
            "d1758645aeb04813a44cc06f5212071a",
            "cb7ba5e434924874ab1d5115767688a8"
          ]
        },
        "id": "0-S718Y7hBod",
        "outputId": "cbf7fc6a-92b4-454a-c26c-6721e92f36a3"
      },
      "source": [
        "def update3(N0X,N0Y,T,alpha,omega,beta,delta,gamma):\n",
        "    N0=np.array([N0X,N0Y])\n",
        "    T=np.linspace(0,T,1000)\n",
        "    sol=odeint(foo,N0,T,args=(alpha,omega,delta,beta,gamma))\n",
        "    fig,axes=plt.subplots(nrows=1,ncols=2,figsize=(25,10))\n",
        "    SSy=(alpha/delta)*(1-beta/(omega*gamma))\n",
        "    SSx=beta/gamma\n",
        "    axes[0].hlines(SSx,0,T[-1],color='k',lw=2,ls=':')\n",
        "    axes[0].hlines(SSy,0,T[-1],color='r',lw=2,ls=':')\n",
        "\n",
        "    [axes[0].plot(T,sol[:,i]) for i in (0,1)]\n",
        "    axes[0].set_xlabel(\"time\",fontsize=20)\n",
        "    axes[0].set_ylabel(\"species\",fontsize=20)\n",
        "    axes[0].legend([r'prey',r'predator',r'$SS_{prey}$',r'$SS_{predator}$'],fontsize=20)\n",
        "    axes[0].grid()\n",
        "\n",
        "    axes[1].plot(sol[:,0],sol[:,1])\n",
        "    xlim=axes[1].get_xlim()\n",
        "    ylim=axes[1].get_ylim()\n",
        "    axes[1].vlines(SSx,ylim[0],ylim[1],color='k',lw=2,ls=':',label=r'$SS_{prey}$')\n",
        "    axes[1].hlines(SSy,xlim[0],xlim[1],color='r',lw=2,ls=':',label=r'$SS_{predator}$')\n",
        "    axes[1].legend()\n",
        "    axes[1].set_xlabel(\"predator\",fontsize=20)\n",
        "    axes[1].set_ylabel(\"prey\",fontsize=20)\n",
        "    axes[1].grid()\n",
        "\n",
        "    plt.show()\n",
        "\n",
        "timeSlider=FloatText(value=20,min=1,step=1,description=\"T\")\n",
        "N0XSlider=FloatSlider(value=1, min=0.,max=10,step=1,description=\"N0X\")\n",
        "N0YSlider=FloatSlider(value=1, min=0.,max=10,step=1,description=\"N0Y\")\n",
        "alphaSlider=FloatSlider(value=2, min=0.,max=4,step=0.1,readout_format='.3f',description=r'<MATH>&alpha;</MATH>')\n",
        "omegaSlider=FloatSlider(value=4, min=0.,max=10,step=0.1,readout_format='.3f',description=r'<MATH>&omega;</MATH>')\n",
        "\n",
        "betaSlider=FloatSlider(value=1, min=0.01,max=4,step=0.1,readout_format='.3f',description=r'<MATH>&beta;</MATH>')\n",
        "deltaSlider=FloatSlider(value=1, min=0.01,max=2,step=0.01,readout_format='.3f',description=r'<MATH>&delta;</MATH>')\n",
        "gammaSlider=FloatSlider(value=1, min=0.,max=2,step=0.01,description=r'<MATH>&gamma;</MATH>')\n",
        "\n",
        "#N0XSlider=FloatText(value=1, min=0.,max=10,step=1,description=\"N0X\")\n",
        "#N0YSlider=FloatText(value=1, min=0.,max=10,step=1,description=\"N0Y\")\n",
        "##alphaSlider=FloatText(value=2, min=0.,max=4,step=0.1,readout_format='.3f',description=r'<MATH>&alpha;</MATH>')\n",
        "#omegaSlider=FloatText(value=4, min=0.,max=10,step=0.1,readout_format='.3f',description=r'<MATH>&omega;</MATH>')\n",
        "\n",
        "#betaSlider=FloatText(value=1, min=0.01,max=4,step=0.1,readout_format='.3f',description=r'<MATH>&beta;</MATH>')\n",
        "#deltaSlider=FloatText(value=1, min=0.01,max=2,step=0.01,readout_format='.3f',description=r'<MATH>&delta;</MATH>')\n",
        "#gammaSlider=FloatText(value=1, min=0.,max=2,step=0.01,description=r'<MATH>&gamma;</MATH>')\n",
        "\n",
        "\n",
        "\n",
        "foo=lotkaVolterraMod\n",
        "interactive_plot = interactive(update3, N0X=N0XSlider,N0Y=N0YSlider, T=timeSlider,\n",
        "                               alpha=alphaSlider,omega=omegaSlider, beta=betaSlider,gamma=gammaSlider,delta=deltaSlider)\n",
        "output = interactive_plot.children[-1]\n",
        "output.layout.height = '650px'\n",
        "\n",
        "\n",
        "interactive_plot"
      ],
      "execution_count": null,
      "outputs": [
        {
          "output_type": "display_data",
          "data": {
            "application/javascript": [
              "google.colab.output.setIframeHeight(0, true, {maxHeight: 5000})"
            ],
            "text/plain": [
              "<IPython.core.display.Javascript object>"
            ]
          },
          "metadata": {
            "tags": []
          }
        },
        {
          "output_type": "display_data",
          "data": {
            "application/javascript": [
              "google.colab.output.setIframeHeight(0, true, {maxHeight: 5000})"
            ],
            "text/plain": [
              "<IPython.core.display.Javascript object>"
            ]
          },
          "metadata": {
            "tags": []
          }
        },
        {
          "output_type": "display_data",
          "data": {
            "application/javascript": [
              "google.colab.output.setIframeHeight(0, true, {maxHeight: 5000})"
            ],
            "text/plain": [
              "<IPython.core.display.Javascript object>"
            ]
          },
          "metadata": {
            "tags": []
          }
        },
        {
          "output_type": "display_data",
          "data": {
            "application/javascript": [
              "google.colab.output.setIframeHeight(0, true, {maxHeight: 5000})"
            ],
            "text/plain": [
              "<IPython.core.display.Javascript object>"
            ]
          },
          "metadata": {
            "tags": []
          }
        },
        {
          "output_type": "display_data",
          "data": {
            "application/vnd.jupyter.widget-view+json": {
              "model_id": "705d029d210347c7afb20a7f9b65ddef",
              "version_minor": 0,
              "version_major": 2
            },
            "text/plain": [
              "interactive(children=(FloatSlider(value=1.0, description='N0X', max=10.0, step=1.0), FloatSlider(value=1.0, de…"
            ]
          },
          "metadata": {
            "tags": []
          }
        },
        {
          "output_type": "display_data",
          "data": {
            "image/png": "[encoded data removed]",
            "text/plain": [
              "<Figure size 1800x720 with 2 Axes>"
            ]
          },
          "metadata": {
            "tags": [],
            "needs_background": "light"
          }
        }
      ]
    }
  ]
}